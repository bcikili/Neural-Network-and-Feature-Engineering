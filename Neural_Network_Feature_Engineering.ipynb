{
  "nbformat": 4,
  "nbformat_minor": 0,
  "metadata": {
    "kernelspec": {
      "display_name": "Python 3",
      "language": "python",
      "name": "python3"
    },
    "language_info": {
      "codemirror_mode": {
        "name": "ipython",
        "version": 3
      },
      "file_extension": ".py",
      "mimetype": "text/x-python",
      "name": "python",
      "nbconvert_exporter": "python",
      "pygments_lexer": "ipython3",
      "version": "3.7.6"
    },
    "colab": {
      "name": "Neural Network_Feature_Engineering.ipynb",
      "provenance": [],
      "toc_visible": true
    }
  },
  "cells": [
    {
      "cell_type": "code",
      "metadata": {
        "colab": {
          "base_uri": "https://localhost:8080/"
        },
        "id": "eWstX3g_pdr2",
        "outputId": "851a4704-9b4c-4db0-99c3-01e7c6394d8f"
      },
      "source": [
        "pip install forcats"
      ],
      "execution_count": 2,
      "outputs": [
        {
          "output_type": "stream",
          "text": [
            "Collecting forcats\n",
            "  Downloading https://files.pythonhosted.org/packages/81/dd/1b39ae32e2238bda78918bd50e0c2096cd28b5370735fc8ef249298ce5ab/forcats-0.0.1.tar.gz\n",
            "Collecting siuba\n",
            "\u001b[?25l  Downloading https://files.pythonhosted.org/packages/11/60/2e8ad9962ce06a7bf8356b3018342b55d12ae86df5c9bd4aa7aa7670f9e8/siuba-0.0.24-py3-none-any.whl (104kB)\n",
            "\u001b[K     |████████████████████████████████| 112kB 8.0MB/s \n",
            "\u001b[?25hRequirement already satisfied: pandas in /usr/local/lib/python3.6/dist-packages (from forcats) (1.1.5)\n",
            "Requirement already satisfied: SQLAlchemy>=1.1.18 in /usr/local/lib/python3.6/dist-packages (from siuba->forcats) (1.3.20)\n",
            "Requirement already satisfied: numpy>=1.12.0 in /usr/local/lib/python3.6/dist-packages (from siuba->forcats) (1.18.5)\n",
            "Requirement already satisfied: PyYAML>=3.0.0 in /usr/local/lib/python3.6/dist-packages (from siuba->forcats) (3.13)\n",
            "Requirement already satisfied: pytz>=2017.2 in /usr/local/lib/python3.6/dist-packages (from pandas->forcats) (2018.9)\n",
            "Requirement already satisfied: python-dateutil>=2.7.3 in /usr/local/lib/python3.6/dist-packages (from pandas->forcats) (2.8.1)\n",
            "Requirement already satisfied: six>=1.5 in /usr/local/lib/python3.6/dist-packages (from python-dateutil>=2.7.3->pandas->forcats) (1.15.0)\n",
            "Building wheels for collected packages: forcats\n",
            "  Building wheel for forcats (setup.py) ... \u001b[?25l\u001b[?25hdone\n",
            "  Created wheel for forcats: filename=forcats-0.0.1-cp36-none-any.whl size=1546 sha256=bd89aae4e10e8f33bc2fb290bc9dad8017d2ee6a570bf599228741c7931b0128\n",
            "  Stored in directory: /root/.cache/pip/wheels/ce/c3/b9/17594d5fa27e0ca37e60a31725adc79966b81c88772bd43516\n",
            "Successfully built forcats\n",
            "Installing collected packages: siuba, forcats\n",
            "Successfully installed forcats-0.0.1 siuba-0.0.24\n"
          ],
          "name": "stdout"
        }
      ]
    },
    {
      "cell_type": "code",
      "metadata": {
        "id": "5GV7bSnepYun"
      },
      "source": [
        "import pandas as pd\n",
        "import numpy as np\n",
        "from scipy.stats import norm\n",
        "from scipy import stats\n",
        "from scipy.stats import ttest_ind\n",
        "import matplotlib.pyplot as plt\n",
        "import seaborn as sns\n",
        "import numpy as np\n",
        "from siuba.dply.forcats import fct_lump, fct_reorder \n",
        "import warnings\n",
        "warnings.filterwarnings('ignore')"
      ],
      "execution_count": 3,
      "outputs": []
    },
    {
      "cell_type": "code",
      "metadata": {
        "id": "w2-WYPJHpYuy"
      },
      "source": [
        "ks = pd.read_csv('ks_combo.csv')"
      ],
      "execution_count": 4,
      "outputs": []
    },
    {
      "cell_type": "code",
      "metadata": {
        "colab": {
          "base_uri": "https://localhost:8080/"
        },
        "id": "URW9g9RopYuz",
        "outputId": "b5821870-a856-45c4-8fd1-81366f7418c4"
      },
      "source": [
        "ks.shape"
      ],
      "execution_count": 5,
      "outputs": [
        {
          "output_type": "execute_result",
          "data": {
            "text/plain": [
              "(702411, 13)"
            ]
          },
          "metadata": {
            "tags": []
          },
          "execution_count": 5
        }
      ]
    },
    {
      "cell_type": "code",
      "metadata": {
        "colab": {
          "base_uri": "https://localhost:8080/",
          "height": 289
        },
        "id": "lyTsI6tUpYuz",
        "outputId": "6ad96a9f-347e-4b42-c52e-62e994c088bc"
      },
      "source": [
        "ks.head()"
      ],
      "execution_count": 6,
      "outputs": [
        {
          "output_type": "execute_result",
          "data": {
            "text/html": [
              "<div>\n",
              "<style scoped>\n",
              "    .dataframe tbody tr th:only-of-type {\n",
              "        vertical-align: middle;\n",
              "    }\n",
              "\n",
              "    .dataframe tbody tr th {\n",
              "        vertical-align: top;\n",
              "    }\n",
              "\n",
              "    .dataframe thead th {\n",
              "        text-align: right;\n",
              "    }\n",
              "</style>\n",
              "<table border=\"1\" class=\"dataframe\">\n",
              "  <thead>\n",
              "    <tr style=\"text-align: right;\">\n",
              "      <th></th>\n",
              "      <th>ID</th>\n",
              "      <th>name</th>\n",
              "      <th>category</th>\n",
              "      <th>main_category</th>\n",
              "      <th>currency</th>\n",
              "      <th>deadline</th>\n",
              "      <th>goal</th>\n",
              "      <th>launched</th>\n",
              "      <th>pledged</th>\n",
              "      <th>state</th>\n",
              "      <th>backers</th>\n",
              "      <th>country</th>\n",
              "      <th>usd.pledged</th>\n",
              "    </tr>\n",
              "  </thead>\n",
              "  <tbody>\n",
              "    <tr>\n",
              "      <th>0</th>\n",
              "      <td>1000002330</td>\n",
              "      <td>The Songs of Adelaide &amp; Abullah</td>\n",
              "      <td>Poetry</td>\n",
              "      <td>Publishing</td>\n",
              "      <td>GBP</td>\n",
              "      <td>2015-10-09</td>\n",
              "      <td>1000</td>\n",
              "      <td>2015-08-11 12:12:28</td>\n",
              "      <td>0</td>\n",
              "      <td>failed</td>\n",
              "      <td>0</td>\n",
              "      <td>GB</td>\n",
              "      <td>0</td>\n",
              "    </tr>\n",
              "    <tr>\n",
              "      <th>1</th>\n",
              "      <td>1000003930</td>\n",
              "      <td>Greeting From Earth: ZGAC Arts Capsule For ET</td>\n",
              "      <td>Narrative Film</td>\n",
              "      <td>Film &amp; Video</td>\n",
              "      <td>USD</td>\n",
              "      <td>2017-11-01</td>\n",
              "      <td>30000</td>\n",
              "      <td>2017-09-02 04:43:57</td>\n",
              "      <td>2421</td>\n",
              "      <td>failed</td>\n",
              "      <td>15</td>\n",
              "      <td>US</td>\n",
              "      <td>100</td>\n",
              "    </tr>\n",
              "    <tr>\n",
              "      <th>2</th>\n",
              "      <td>1000004038</td>\n",
              "      <td>Where is Hank?</td>\n",
              "      <td>Narrative Film</td>\n",
              "      <td>Film &amp; Video</td>\n",
              "      <td>USD</td>\n",
              "      <td>2013-02-26</td>\n",
              "      <td>45000</td>\n",
              "      <td>2013-01-12 00:20:50</td>\n",
              "      <td>220</td>\n",
              "      <td>failed</td>\n",
              "      <td>3</td>\n",
              "      <td>US</td>\n",
              "      <td>220</td>\n",
              "    </tr>\n",
              "    <tr>\n",
              "      <th>3</th>\n",
              "      <td>1000007540</td>\n",
              "      <td>ToshiCapital Rekordz Needs Help to Complete Album</td>\n",
              "      <td>Music</td>\n",
              "      <td>Music</td>\n",
              "      <td>USD</td>\n",
              "      <td>2012-04-16</td>\n",
              "      <td>5000</td>\n",
              "      <td>2012-03-17 03:24:11</td>\n",
              "      <td>1</td>\n",
              "      <td>failed</td>\n",
              "      <td>1</td>\n",
              "      <td>US</td>\n",
              "      <td>1</td>\n",
              "    </tr>\n",
              "    <tr>\n",
              "      <th>4</th>\n",
              "      <td>1000011046</td>\n",
              "      <td>Community Film Project: The Art of Neighborhoo...</td>\n",
              "      <td>Film &amp; Video</td>\n",
              "      <td>Film &amp; Video</td>\n",
              "      <td>USD</td>\n",
              "      <td>2015-08-29</td>\n",
              "      <td>19500</td>\n",
              "      <td>2015-07-04 08:35:03</td>\n",
              "      <td>1283</td>\n",
              "      <td>canceled</td>\n",
              "      <td>14</td>\n",
              "      <td>US</td>\n",
              "      <td>1283</td>\n",
              "    </tr>\n",
              "  </tbody>\n",
              "</table>\n",
              "</div>"
            ],
            "text/plain": [
              "           ID  ... usd.pledged\n",
              "0  1000002330  ...           0\n",
              "1  1000003930  ...         100\n",
              "2  1000004038  ...         220\n",
              "3  1000007540  ...           1\n",
              "4  1000011046  ...        1283\n",
              "\n",
              "[5 rows x 13 columns]"
            ]
          },
          "metadata": {
            "tags": []
          },
          "execution_count": 6
        }
      ]
    },
    {
      "cell_type": "code",
      "metadata": {
        "colab": {
          "base_uri": "https://localhost:8080/",
          "height": 289
        },
        "id": "GLAa7tNtpYu0",
        "outputId": "c3ed0463-dabe-4f4d-d1f1-0cb188c539b9"
      },
      "source": [
        "ks.tail()"
      ],
      "execution_count": 7,
      "outputs": [
        {
          "output_type": "execute_result",
          "data": {
            "text/html": [
              "<div>\n",
              "<style scoped>\n",
              "    .dataframe tbody tr th:only-of-type {\n",
              "        vertical-align: middle;\n",
              "    }\n",
              "\n",
              "    .dataframe tbody tr th {\n",
              "        vertical-align: top;\n",
              "    }\n",
              "\n",
              "    .dataframe thead th {\n",
              "        text-align: right;\n",
              "    }\n",
              "</style>\n",
              "<table border=\"1\" class=\"dataframe\">\n",
              "  <thead>\n",
              "    <tr style=\"text-align: right;\">\n",
              "      <th></th>\n",
              "      <th>ID</th>\n",
              "      <th>name</th>\n",
              "      <th>category</th>\n",
              "      <th>main_category</th>\n",
              "      <th>currency</th>\n",
              "      <th>deadline</th>\n",
              "      <th>goal</th>\n",
              "      <th>launched</th>\n",
              "      <th>pledged</th>\n",
              "      <th>state</th>\n",
              "      <th>backers</th>\n",
              "      <th>country</th>\n",
              "      <th>usd.pledged</th>\n",
              "    </tr>\n",
              "  </thead>\n",
              "  <tbody>\n",
              "    <tr>\n",
              "      <th>702406</th>\n",
              "      <td>999976400</td>\n",
              "      <td>ChknTruk Nationwide Charity Drive 2014 (Canceled)</td>\n",
              "      <td>Documentary</td>\n",
              "      <td>Film &amp; Video</td>\n",
              "      <td>USD</td>\n",
              "      <td>2014-10-17 02:35:30</td>\n",
              "      <td>50000</td>\n",
              "      <td>2014-09-17 02:35:30</td>\n",
              "      <td>25</td>\n",
              "      <td>canceled</td>\n",
              "      <td>1</td>\n",
              "      <td>US</td>\n",
              "      <td>25</td>\n",
              "    </tr>\n",
              "    <tr>\n",
              "      <th>702407</th>\n",
              "      <td>999977640</td>\n",
              "      <td>The Tribe</td>\n",
              "      <td>Narrative Film</td>\n",
              "      <td>Film &amp; Video</td>\n",
              "      <td>USD</td>\n",
              "      <td>2011-07-19 03:35:14</td>\n",
              "      <td>1500</td>\n",
              "      <td>2011-06-22 03:35:14</td>\n",
              "      <td>155</td>\n",
              "      <td>failed</td>\n",
              "      <td>5</td>\n",
              "      <td>US</td>\n",
              "      <td>155</td>\n",
              "    </tr>\n",
              "    <tr>\n",
              "      <th>702408</th>\n",
              "      <td>999986353</td>\n",
              "      <td>Walls of Remedy- New lesbian Romantic Comedy f...</td>\n",
              "      <td>Narrative Film</td>\n",
              "      <td>Film &amp; Video</td>\n",
              "      <td>USD</td>\n",
              "      <td>2010-08-16 05:59:00</td>\n",
              "      <td>15000</td>\n",
              "      <td>2010-07-01 19:40:30</td>\n",
              "      <td>20</td>\n",
              "      <td>failed</td>\n",
              "      <td>1</td>\n",
              "      <td>US</td>\n",
              "      <td>20</td>\n",
              "    </tr>\n",
              "    <tr>\n",
              "      <th>702409</th>\n",
              "      <td>999987933</td>\n",
              "      <td>BioDefense Education Kit</td>\n",
              "      <td>Technology</td>\n",
              "      <td>Technology</td>\n",
              "      <td>USD</td>\n",
              "      <td>2016-02-13 02:00:00</td>\n",
              "      <td>15000</td>\n",
              "      <td>2016-01-13 18:13:53</td>\n",
              "      <td>200</td>\n",
              "      <td>failed</td>\n",
              "      <td>6</td>\n",
              "      <td>US</td>\n",
              "      <td>200</td>\n",
              "    </tr>\n",
              "    <tr>\n",
              "      <th>702410</th>\n",
              "      <td>999988282</td>\n",
              "      <td>Nou Renmen Ayiti!  We Love Haiti!</td>\n",
              "      <td>Performance Art</td>\n",
              "      <td>Art</td>\n",
              "      <td>USD</td>\n",
              "      <td>2011-08-16 09:07:47</td>\n",
              "      <td>2000</td>\n",
              "      <td>2011-07-19 09:07:47</td>\n",
              "      <td>524</td>\n",
              "      <td>failed</td>\n",
              "      <td>17</td>\n",
              "      <td>US</td>\n",
              "      <td>524</td>\n",
              "    </tr>\n",
              "  </tbody>\n",
              "</table>\n",
              "</div>"
            ],
            "text/plain": [
              "               ID  ... usd.pledged\n",
              "702406  999976400  ...          25\n",
              "702407  999977640  ...         155\n",
              "702408  999986353  ...          20\n",
              "702409  999987933  ...         200\n",
              "702410  999988282  ...         524\n",
              "\n",
              "[5 rows x 13 columns]"
            ]
          },
          "metadata": {
            "tags": []
          },
          "execution_count": 7
        }
      ]
    },
    {
      "cell_type": "code",
      "metadata": {
        "colab": {
          "base_uri": "https://localhost:8080/"
        },
        "id": "PP607pAQpYu1",
        "outputId": "d05f791c-5b49-4074-af93-90e0ad6aa429"
      },
      "source": [
        "ks['state'].value_counts()"
      ],
      "execution_count": 8,
      "outputs": [
        {
          "output_type": "execute_result",
          "data": {
            "text/plain": [
              "failed                 365940\n",
              "successful             247037\n",
              "canceled                71133\n",
              "live                     7227\n",
              "undefined                7117\n",
              "                        ...  \n",
              "4262                        1\n",
              "2015-09-08 22:08:39         1\n",
              "7271                        1\n",
              "3671                        1\n",
              "8609.6                      1\n",
              "Name: state, Length: 410, dtype: int64"
            ]
          },
          "metadata": {
            "tags": []
          },
          "execution_count": 8
        }
      ]
    },
    {
      "cell_type": "code",
      "metadata": {
        "colab": {
          "base_uri": "https://localhost:8080/"
        },
        "id": "Tnh_DJorpYu2",
        "outputId": "23f616c3-dff8-49d6-c01a-c90eb548d505"
      },
      "source": [
        "ks['main_category'].value_counts()"
      ],
      "execution_count": 9,
      "outputs": [
        {
          "output_type": "execute_result",
          "data": {
            "text/plain": [
              "Film & Video    121264\n",
              "Music            98662\n",
              "Publishing       74107\n",
              "Games            63239\n",
              "Technology       58697\n",
              "                 ...  \n",
              " pants               1\n",
              " Demons              1\n",
              "Textiles             1\n",
              "Metal                1\n",
              "Vegan                1\n",
              "Name: main_category, Length: 120, dtype: int64"
            ]
          },
          "metadata": {
            "tags": []
          },
          "execution_count": 9
        }
      ]
    },
    {
      "cell_type": "code",
      "metadata": {
        "id": "lmOeTSkPpYu2"
      },
      "source": [
        "ks['main_category'] = fct_lump(ks['main_category'], n= 11)"
      ],
      "execution_count": 10,
      "outputs": []
    },
    {
      "cell_type": "code",
      "metadata": {
        "colab": {
          "base_uri": "https://localhost:8080/",
          "height": 407
        },
        "id": "IWFv25VvpYu2",
        "outputId": "1206cbe0-f244-404b-86d1-fea0d3afd877"
      },
      "source": [
        "ks['main_category'].value_counts().plot(kind='barh', figsize=(14,6), title='Project Categories')"
      ],
      "execution_count": 12,
      "outputs": [
        {
          "output_type": "execute_result",
          "data": {
            "text/plain": [
              "<matplotlib.axes._subplots.AxesSubplot at 0x7fa19bf7df60>"
            ]
          },
          "metadata": {
            "tags": []
          },
          "execution_count": 12
        },
        {
          "output_type": "display_data",
          "data": {
            "image/png": "[encoded data removed]",
            "text/plain": [
              "<Figure size 1008x432 with 1 Axes>"
            ]
          },
          "metadata": {
            "tags": [],
            "needs_background": "light"
          }
        }
      ]
    },
    {
      "cell_type": "code",
      "metadata": {
        "id": "tEJhynL-pYu3"
      },
      "source": [
        "ks['currency'] = fct_lump(ks['currency'], n= 11)"
      ],
      "execution_count": 13,
      "outputs": []
    },
    {
      "cell_type": "code",
      "metadata": {
        "colab": {
          "base_uri": "https://localhost:8080/",
          "height": 407
        },
        "id": "bhwoF-XxpYu4",
        "outputId": "04f6a512-b0d0-42c3-f6d6-7cf092fa497a"
      },
      "source": [
        "ks['currency'].value_counts().plot(kind='barh', figsize=(14,6), title='Currencies')"
      ],
      "execution_count": 14,
      "outputs": [
        {
          "output_type": "execute_result",
          "data": {
            "text/plain": [
              "<matplotlib.axes._subplots.AxesSubplot at 0x7fa19bfd9c50>"
            ]
          },
          "metadata": {
            "tags": []
          },
          "execution_count": 14
        },
        {
          "output_type": "display_data",
          "data": {
            "image/png": "[encoded data removed]",
            "text/plain": [
              "<Figure size 1008x432 with 1 Axes>"
            ]
          },
          "metadata": {
            "tags": [],
            "needs_background": "light"
          }
        }
      ]
    },
    {
      "cell_type": "code",
      "metadata": {
        "id": "4tdrALSHpYu5"
      },
      "source": [
        "ks['country'] = fct_lump(ks['country'], n= 9)"
      ],
      "execution_count": 15,
      "outputs": []
    },
    {
      "cell_type": "code",
      "metadata": {
        "colab": {
          "base_uri": "https://localhost:8080/",
          "height": 407
        },
        "id": "ngbxiS3MpYu5",
        "outputId": "2f56110c-7194-4677-aa09-ebf40b4bb97d"
      },
      "source": [
        "ks['country'].value_counts().plot(kind='barh', figsize=(14,6), title='Countries')"
      ],
      "execution_count": 16,
      "outputs": [
        {
          "output_type": "execute_result",
          "data": {
            "text/plain": [
              "<matplotlib.axes._subplots.AxesSubplot at 0x7fa19b9e1240>"
            ]
          },
          "metadata": {
            "tags": []
          },
          "execution_count": 16
        },
        {
          "output_type": "display_data",
          "data": {
            "image/png": "[encoded data removed]",
            "text/plain": [
              "<Figure size 1008x432 with 1 Axes>"
            ]
          },
          "metadata": {
            "tags": [],
            "needs_background": "light"
          }
        }
      ]
    },
    {
      "cell_type": "code",
      "metadata": {
        "colab": {
          "base_uri": "https://localhost:8080/"
        },
        "id": "RY4PO-1upYu6",
        "outputId": "8f3fa969-3eb1-40c1-ffa0-684074bf5371"
      },
      "source": [
        "ks['country'].value_counts()"
      ],
      "execution_count": 17,
      "outputs": [
        {
          "output_type": "execute_result",
          "data": {
            "text/plain": [
              "US       550192\n",
              "GB        61181\n",
              "CA        26748\n",
              "Other     24959\n",
              "AU        14075\n",
              "DE         6855\n",
              "NL         5127\n",
              "FR         4849\n",
              "IT         4628\n",
              "N,0\"       3797\n",
              "Name: country, dtype: int64"
            ]
          },
          "metadata": {
            "tags": []
          },
          "execution_count": 17
        }
      ]
    },
    {
      "cell_type": "code",
      "metadata": {
        "colab": {
          "base_uri": "https://localhost:8080/"
        },
        "id": "68mqAuh8pYu6",
        "outputId": "882bc0eb-f2a2-4e8a-f37d-0448d6bb4796"
      },
      "source": [
        "ks['state'].isnull().sum()"
      ],
      "execution_count": 18,
      "outputs": [
        {
          "output_type": "execute_result",
          "data": {
            "text/plain": [
              "0"
            ]
          },
          "metadata": {
            "tags": []
          },
          "execution_count": 18
        }
      ]
    },
    {
      "cell_type": "code",
      "metadata": {
        "colab": {
          "base_uri": "https://localhost:8080/"
        },
        "id": "333I62yipYu7",
        "outputId": "f0d24172-814a-498c-809b-eb963c83ecce"
      },
      "source": [
        "ks['state'].isna().sum()"
      ],
      "execution_count": 19,
      "outputs": [
        {
          "output_type": "execute_result",
          "data": {
            "text/plain": [
              "0"
            ]
          },
          "metadata": {
            "tags": []
          },
          "execution_count": 19
        }
      ]
    },
    {
      "cell_type": "code",
      "metadata": {
        "id": "v4fWPgyJpYu7"
      },
      "source": [
        "def state (series):\n",
        "    if series == 'successful':\n",
        "        return 'successful'\n",
        "    else:\n",
        "        return 'failed'\n",
        "\n",
        "ks['state_lump'] = ks['state'].apply(state)"
      ],
      "execution_count": 20,
      "outputs": []
    },
    {
      "cell_type": "code",
      "metadata": {
        "colab": {
          "base_uri": "https://localhost:8080/",
          "height": 407
        },
        "id": "YAmGNMBJpYu8",
        "outputId": "13c08ce8-fefb-4b01-81e1-6d55fb39f8f6"
      },
      "source": [
        "ks['state_lump'].value_counts().plot(kind='barh', figsize=(14,6), title='state of the projects')"
      ],
      "execution_count": 21,
      "outputs": [
        {
          "output_type": "execute_result",
          "data": {
            "text/plain": [
              "<matplotlib.axes._subplots.AxesSubplot at 0x7fa19b9e1470>"
            ]
          },
          "metadata": {
            "tags": []
          },
          "execution_count": 21
        },
        {
          "output_type": "display_data",
          "data": {
            "image/png": "[encoded data removed]",
            "text/plain": [
              "<Figure size 1008x432 with 1 Axes>"
            ]
          },
          "metadata": {
            "tags": [],
            "needs_background": "light"
          }
        }
      ]
    },
    {
      "cell_type": "code",
      "metadata": {
        "colab": {
          "base_uri": "https://localhost:8080/",
          "height": 306
        },
        "id": "JGmJyBYepYu8",
        "outputId": "dc861083-1012-45e1-f2f1-5f78bb5f4cf1"
      },
      "source": [
        "ks.head()"
      ],
      "execution_count": 22,
      "outputs": [
        {
          "output_type": "execute_result",
          "data": {
            "text/html": [
              "<div>\n",
              "<style scoped>\n",
              "    .dataframe tbody tr th:only-of-type {\n",
              "        vertical-align: middle;\n",
              "    }\n",
              "\n",
              "    .dataframe tbody tr th {\n",
              "        vertical-align: top;\n",
              "    }\n",
              "\n",
              "    .dataframe thead th {\n",
              "        text-align: right;\n",
              "    }\n",
              "</style>\n",
              "<table border=\"1\" class=\"dataframe\">\n",
              "  <thead>\n",
              "    <tr style=\"text-align: right;\">\n",
              "      <th></th>\n",
              "      <th>ID</th>\n",
              "      <th>name</th>\n",
              "      <th>category</th>\n",
              "      <th>main_category</th>\n",
              "      <th>currency</th>\n",
              "      <th>deadline</th>\n",
              "      <th>goal</th>\n",
              "      <th>launched</th>\n",
              "      <th>pledged</th>\n",
              "      <th>state</th>\n",
              "      <th>backers</th>\n",
              "      <th>country</th>\n",
              "      <th>usd.pledged</th>\n",
              "      <th>state_lump</th>\n",
              "    </tr>\n",
              "  </thead>\n",
              "  <tbody>\n",
              "    <tr>\n",
              "      <th>0</th>\n",
              "      <td>1000002330</td>\n",
              "      <td>The Songs of Adelaide &amp; Abullah</td>\n",
              "      <td>Poetry</td>\n",
              "      <td>Publishing</td>\n",
              "      <td>GBP</td>\n",
              "      <td>2015-10-09</td>\n",
              "      <td>1000</td>\n",
              "      <td>2015-08-11 12:12:28</td>\n",
              "      <td>0</td>\n",
              "      <td>failed</td>\n",
              "      <td>0</td>\n",
              "      <td>GB</td>\n",
              "      <td>0</td>\n",
              "      <td>failed</td>\n",
              "    </tr>\n",
              "    <tr>\n",
              "      <th>1</th>\n",
              "      <td>1000003930</td>\n",
              "      <td>Greeting From Earth: ZGAC Arts Capsule For ET</td>\n",
              "      <td>Narrative Film</td>\n",
              "      <td>Film &amp; Video</td>\n",
              "      <td>USD</td>\n",
              "      <td>2017-11-01</td>\n",
              "      <td>30000</td>\n",
              "      <td>2017-09-02 04:43:57</td>\n",
              "      <td>2421</td>\n",
              "      <td>failed</td>\n",
              "      <td>15</td>\n",
              "      <td>US</td>\n",
              "      <td>100</td>\n",
              "      <td>failed</td>\n",
              "    </tr>\n",
              "    <tr>\n",
              "      <th>2</th>\n",
              "      <td>1000004038</td>\n",
              "      <td>Where is Hank?</td>\n",
              "      <td>Narrative Film</td>\n",
              "      <td>Film &amp; Video</td>\n",
              "      <td>USD</td>\n",
              "      <td>2013-02-26</td>\n",
              "      <td>45000</td>\n",
              "      <td>2013-01-12 00:20:50</td>\n",
              "      <td>220</td>\n",
              "      <td>failed</td>\n",
              "      <td>3</td>\n",
              "      <td>US</td>\n",
              "      <td>220</td>\n",
              "      <td>failed</td>\n",
              "    </tr>\n",
              "    <tr>\n",
              "      <th>3</th>\n",
              "      <td>1000007540</td>\n",
              "      <td>ToshiCapital Rekordz Needs Help to Complete Album</td>\n",
              "      <td>Music</td>\n",
              "      <td>Music</td>\n",
              "      <td>USD</td>\n",
              "      <td>2012-04-16</td>\n",
              "      <td>5000</td>\n",
              "      <td>2012-03-17 03:24:11</td>\n",
              "      <td>1</td>\n",
              "      <td>failed</td>\n",
              "      <td>1</td>\n",
              "      <td>US</td>\n",
              "      <td>1</td>\n",
              "      <td>failed</td>\n",
              "    </tr>\n",
              "    <tr>\n",
              "      <th>4</th>\n",
              "      <td>1000011046</td>\n",
              "      <td>Community Film Project: The Art of Neighborhoo...</td>\n",
              "      <td>Film &amp; Video</td>\n",
              "      <td>Film &amp; Video</td>\n",
              "      <td>USD</td>\n",
              "      <td>2015-08-29</td>\n",
              "      <td>19500</td>\n",
              "      <td>2015-07-04 08:35:03</td>\n",
              "      <td>1283</td>\n",
              "      <td>canceled</td>\n",
              "      <td>14</td>\n",
              "      <td>US</td>\n",
              "      <td>1283</td>\n",
              "      <td>failed</td>\n",
              "    </tr>\n",
              "  </tbody>\n",
              "</table>\n",
              "</div>"
            ],
            "text/plain": [
              "           ID  ... state_lump\n",
              "0  1000002330  ...     failed\n",
              "1  1000003930  ...     failed\n",
              "2  1000004038  ...     failed\n",
              "3  1000007540  ...     failed\n",
              "4  1000011046  ...     failed\n",
              "\n",
              "[5 rows x 14 columns]"
            ]
          },
          "metadata": {
            "tags": []
          },
          "execution_count": 22
        }
      ]
    },
    {
      "cell_type": "code",
      "metadata": {
        "id": "KqkrzLQQpYu9"
      },
      "source": [
        "from datetime import datetime\n",
        "from datetime import timedelta"
      ],
      "execution_count": 29,
      "outputs": []
    },
    {
      "cell_type": "code",
      "metadata": {
        "id": "CMGStd5upYu9"
      },
      "source": [
        "ks['launched'] = pd.to_datetime(ks['launched'], format='%Y-%m-%d', errors='coerce' )\n",
        "ks['deadline'] = pd.to_datetime(ks['deadline'], format='%Y-%m-%d', errors='coerce' )"
      ],
      "execution_count": 32,
      "outputs": []
    },
    {
      "cell_type": "code",
      "metadata": {
        "colab": {
          "base_uri": "https://localhost:8080/",
          "height": 340
        },
        "id": "ZgptoyumpYu9",
        "outputId": "1668e099-bb43-4d8f-e4f1-83d18a67693f"
      },
      "source": [
        "ks['launched_year']=ks['launched'].dt.year\n",
        "ks['launched_year'].dropna(inplace=True)\n",
        "ks['launched_year'] = ks['launched_year'].astype(int)"
      ],
      "execution_count": 33,
      "outputs": [
        {
          "output_type": "error",
          "ename": "ValueError",
          "evalue": "ignored",
          "traceback": [
            "\u001b[0;31m---------------------------------------------------------------------------\u001b[0m",
            "\u001b[0;31mValueError\u001b[0m                                Traceback (most recent call last)",
            "\u001b[0;32m<ipython-input-33-1324f48f6dea>\u001b[0m in \u001b[0;36m<module>\u001b[0;34m()\u001b[0m\n\u001b[1;32m      1\u001b[0m \u001b[0mks\u001b[0m\u001b[0;34m[\u001b[0m\u001b[0;34m'launched_year'\u001b[0m\u001b[0;34m]\u001b[0m\u001b[0;34m=\u001b[0m\u001b[0mks\u001b[0m\u001b[0;34m[\u001b[0m\u001b[0;34m'launched'\u001b[0m\u001b[0;34m]\u001b[0m\u001b[0;34m.\u001b[0m\u001b[0mdt\u001b[0m\u001b[0;34m.\u001b[0m\u001b[0myear\u001b[0m\u001b[0;34m\u001b[0m\u001b[0;34m\u001b[0m\u001b[0m\n\u001b[1;32m      2\u001b[0m \u001b[0mks\u001b[0m\u001b[0;34m[\u001b[0m\u001b[0;34m'launched_year'\u001b[0m\u001b[0;34m]\u001b[0m\u001b[0;34m.\u001b[0m\u001b[0mdropna\u001b[0m\u001b[0;34m(\u001b[0m\u001b[0minplace\u001b[0m\u001b[0;34m=\u001b[0m\u001b[0;32mTrue\u001b[0m\u001b[0;34m)\u001b[0m\u001b[0;34m\u001b[0m\u001b[0;34m\u001b[0m\u001b[0m\n\u001b[0;32m----> 3\u001b[0;31m \u001b[0mks\u001b[0m\u001b[0;34m[\u001b[0m\u001b[0;34m'launched_year'\u001b[0m\u001b[0;34m]\u001b[0m \u001b[0;34m=\u001b[0m \u001b[0mks\u001b[0m\u001b[0;34m[\u001b[0m\u001b[0;34m'launched_year'\u001b[0m\u001b[0;34m]\u001b[0m\u001b[0;34m.\u001b[0m\u001b[0mastype\u001b[0m\u001b[0;34m(\u001b[0m\u001b[0mint\u001b[0m\u001b[0;34m)\u001b[0m\u001b[0;34m\u001b[0m\u001b[0;34m\u001b[0m\u001b[0m\n\u001b[0m",
            "\u001b[0;32m/usr/local/lib/python3.6/dist-packages/pandas/core/generic.py\u001b[0m in \u001b[0;36mastype\u001b[0;34m(self, dtype, copy, errors)\u001b[0m\n\u001b[1;32m   5546\u001b[0m         \u001b[0;32melse\u001b[0m\u001b[0;34m:\u001b[0m\u001b[0;34m\u001b[0m\u001b[0;34m\u001b[0m\u001b[0m\n\u001b[1;32m   5547\u001b[0m             \u001b[0;31m# else, only a single dtype is given\u001b[0m\u001b[0;34m\u001b[0m\u001b[0;34m\u001b[0m\u001b[0;34m\u001b[0m\u001b[0m\n\u001b[0;32m-> 5548\u001b[0;31m             \u001b[0mnew_data\u001b[0m \u001b[0;34m=\u001b[0m \u001b[0mself\u001b[0m\u001b[0;34m.\u001b[0m\u001b[0m_mgr\u001b[0m\u001b[0;34m.\u001b[0m\u001b[0mastype\u001b[0m\u001b[0;34m(\u001b[0m\u001b[0mdtype\u001b[0m\u001b[0;34m=\u001b[0m\u001b[0mdtype\u001b[0m\u001b[0;34m,\u001b[0m \u001b[0mcopy\u001b[0m\u001b[0;34m=\u001b[0m\u001b[0mcopy\u001b[0m\u001b[0;34m,\u001b[0m \u001b[0merrors\u001b[0m\u001b[0;34m=\u001b[0m\u001b[0merrors\u001b[0m\u001b[0;34m,\u001b[0m\u001b[0;34m)\u001b[0m\u001b[0;34m\u001b[0m\u001b[0;34m\u001b[0m\u001b[0m\n\u001b[0m\u001b[1;32m   5549\u001b[0m             \u001b[0;32mreturn\u001b[0m \u001b[0mself\u001b[0m\u001b[0;34m.\u001b[0m\u001b[0m_constructor\u001b[0m\u001b[0;34m(\u001b[0m\u001b[0mnew_data\u001b[0m\u001b[0;34m)\u001b[0m\u001b[0;34m.\u001b[0m\u001b[0m__finalize__\u001b[0m\u001b[0;34m(\u001b[0m\u001b[0mself\u001b[0m\u001b[0;34m,\u001b[0m \u001b[0mmethod\u001b[0m\u001b[0;34m=\u001b[0m\u001b[0;34m\"astype\"\u001b[0m\u001b[0;34m)\u001b[0m\u001b[0;34m\u001b[0m\u001b[0;34m\u001b[0m\u001b[0m\n\u001b[1;32m   5550\u001b[0m \u001b[0;34m\u001b[0m\u001b[0m\n",
            "\u001b[0;32m/usr/local/lib/python3.6/dist-packages/pandas/core/internals/managers.py\u001b[0m in \u001b[0;36mastype\u001b[0;34m(self, dtype, copy, errors)\u001b[0m\n\u001b[1;32m    602\u001b[0m         \u001b[0mself\u001b[0m\u001b[0;34m,\u001b[0m \u001b[0mdtype\u001b[0m\u001b[0;34m,\u001b[0m \u001b[0mcopy\u001b[0m\u001b[0;34m:\u001b[0m \u001b[0mbool\u001b[0m \u001b[0;34m=\u001b[0m \u001b[0;32mFalse\u001b[0m\u001b[0;34m,\u001b[0m \u001b[0merrors\u001b[0m\u001b[0;34m:\u001b[0m \u001b[0mstr\u001b[0m \u001b[0;34m=\u001b[0m \u001b[0;34m\"raise\"\u001b[0m\u001b[0;34m\u001b[0m\u001b[0;34m\u001b[0m\u001b[0m\n\u001b[1;32m    603\u001b[0m     ) -> \"BlockManager\":\n\u001b[0;32m--> 604\u001b[0;31m         \u001b[0;32mreturn\u001b[0m \u001b[0mself\u001b[0m\u001b[0;34m.\u001b[0m\u001b[0mapply\u001b[0m\u001b[0;34m(\u001b[0m\u001b[0;34m\"astype\"\u001b[0m\u001b[0;34m,\u001b[0m \u001b[0mdtype\u001b[0m\u001b[0;34m=\u001b[0m\u001b[0mdtype\u001b[0m\u001b[0;34m,\u001b[0m \u001b[0mcopy\u001b[0m\u001b[0;34m=\u001b[0m\u001b[0mcopy\u001b[0m\u001b[0;34m,\u001b[0m \u001b[0merrors\u001b[0m\u001b[0;34m=\u001b[0m\u001b[0merrors\u001b[0m\u001b[0;34m)\u001b[0m\u001b[0;34m\u001b[0m\u001b[0;34m\u001b[0m\u001b[0m\n\u001b[0m\u001b[1;32m    605\u001b[0m \u001b[0;34m\u001b[0m\u001b[0m\n\u001b[1;32m    606\u001b[0m     def convert(\n",
            "\u001b[0;32m/usr/local/lib/python3.6/dist-packages/pandas/core/internals/managers.py\u001b[0m in \u001b[0;36mapply\u001b[0;34m(self, f, align_keys, **kwargs)\u001b[0m\n\u001b[1;32m    407\u001b[0m                 \u001b[0mapplied\u001b[0m \u001b[0;34m=\u001b[0m \u001b[0mb\u001b[0m\u001b[0;34m.\u001b[0m\u001b[0mapply\u001b[0m\u001b[0;34m(\u001b[0m\u001b[0mf\u001b[0m\u001b[0;34m,\u001b[0m \u001b[0;34m**\u001b[0m\u001b[0mkwargs\u001b[0m\u001b[0;34m)\u001b[0m\u001b[0;34m\u001b[0m\u001b[0;34m\u001b[0m\u001b[0m\n\u001b[1;32m    408\u001b[0m             \u001b[0;32melse\u001b[0m\u001b[0;34m:\u001b[0m\u001b[0;34m\u001b[0m\u001b[0;34m\u001b[0m\u001b[0m\n\u001b[0;32m--> 409\u001b[0;31m                 \u001b[0mapplied\u001b[0m \u001b[0;34m=\u001b[0m \u001b[0mgetattr\u001b[0m\u001b[0;34m(\u001b[0m\u001b[0mb\u001b[0m\u001b[0;34m,\u001b[0m \u001b[0mf\u001b[0m\u001b[0;34m)\u001b[0m\u001b[0;34m(\u001b[0m\u001b[0;34m**\u001b[0m\u001b[0mkwargs\u001b[0m\u001b[0;34m)\u001b[0m\u001b[0;34m\u001b[0m\u001b[0;34m\u001b[0m\u001b[0m\n\u001b[0m\u001b[1;32m    410\u001b[0m             \u001b[0mresult_blocks\u001b[0m \u001b[0;34m=\u001b[0m \u001b[0m_extend_blocks\u001b[0m\u001b[0;34m(\u001b[0m\u001b[0mapplied\u001b[0m\u001b[0;34m,\u001b[0m \u001b[0mresult_blocks\u001b[0m\u001b[0;34m)\u001b[0m\u001b[0;34m\u001b[0m\u001b[0;34m\u001b[0m\u001b[0m\n\u001b[1;32m    411\u001b[0m \u001b[0;34m\u001b[0m\u001b[0m\n",
            "\u001b[0;32m/usr/local/lib/python3.6/dist-packages/pandas/core/internals/blocks.py\u001b[0m in \u001b[0;36mastype\u001b[0;34m(self, dtype, copy, errors)\u001b[0m\n\u001b[1;32m    593\u001b[0m             \u001b[0mvals1d\u001b[0m \u001b[0;34m=\u001b[0m \u001b[0mvalues\u001b[0m\u001b[0;34m.\u001b[0m\u001b[0mravel\u001b[0m\u001b[0;34m(\u001b[0m\u001b[0;34m)\u001b[0m\u001b[0;34m\u001b[0m\u001b[0;34m\u001b[0m\u001b[0m\n\u001b[1;32m    594\u001b[0m             \u001b[0;32mtry\u001b[0m\u001b[0;34m:\u001b[0m\u001b[0;34m\u001b[0m\u001b[0;34m\u001b[0m\u001b[0m\n\u001b[0;32m--> 595\u001b[0;31m                 \u001b[0mvalues\u001b[0m \u001b[0;34m=\u001b[0m \u001b[0mastype_nansafe\u001b[0m\u001b[0;34m(\u001b[0m\u001b[0mvals1d\u001b[0m\u001b[0;34m,\u001b[0m \u001b[0mdtype\u001b[0m\u001b[0;34m,\u001b[0m \u001b[0mcopy\u001b[0m\u001b[0;34m=\u001b[0m\u001b[0;32mTrue\u001b[0m\u001b[0;34m)\u001b[0m\u001b[0;34m\u001b[0m\u001b[0;34m\u001b[0m\u001b[0m\n\u001b[0m\u001b[1;32m    596\u001b[0m             \u001b[0;32mexcept\u001b[0m \u001b[0;34m(\u001b[0m\u001b[0mValueError\u001b[0m\u001b[0;34m,\u001b[0m \u001b[0mTypeError\u001b[0m\u001b[0;34m)\u001b[0m\u001b[0;34m:\u001b[0m\u001b[0;34m\u001b[0m\u001b[0;34m\u001b[0m\u001b[0m\n\u001b[1;32m    597\u001b[0m                 \u001b[0;31m# e.g. astype_nansafe can fail on object-dtype of strings\u001b[0m\u001b[0;34m\u001b[0m\u001b[0;34m\u001b[0m\u001b[0;34m\u001b[0m\u001b[0m\n",
            "\u001b[0;32m/usr/local/lib/python3.6/dist-packages/pandas/core/dtypes/cast.py\u001b[0m in \u001b[0;36mastype_nansafe\u001b[0;34m(arr, dtype, copy, skipna)\u001b[0m\n\u001b[1;32m    966\u001b[0m \u001b[0;34m\u001b[0m\u001b[0m\n\u001b[1;32m    967\u001b[0m         \u001b[0;32mif\u001b[0m \u001b[0;32mnot\u001b[0m \u001b[0mnp\u001b[0m\u001b[0;34m.\u001b[0m\u001b[0misfinite\u001b[0m\u001b[0;34m(\u001b[0m\u001b[0marr\u001b[0m\u001b[0;34m)\u001b[0m\u001b[0;34m.\u001b[0m\u001b[0mall\u001b[0m\u001b[0;34m(\u001b[0m\u001b[0;34m)\u001b[0m\u001b[0;34m:\u001b[0m\u001b[0;34m\u001b[0m\u001b[0;34m\u001b[0m\u001b[0m\n\u001b[0;32m--> 968\u001b[0;31m             \u001b[0;32mraise\u001b[0m \u001b[0mValueError\u001b[0m\u001b[0;34m(\u001b[0m\u001b[0;34m\"Cannot convert non-finite values (NA or inf) to integer\"\u001b[0m\u001b[0;34m)\u001b[0m\u001b[0;34m\u001b[0m\u001b[0;34m\u001b[0m\u001b[0m\n\u001b[0m\u001b[1;32m    969\u001b[0m \u001b[0;34m\u001b[0m\u001b[0m\n\u001b[1;32m    970\u001b[0m     \u001b[0;32melif\u001b[0m \u001b[0mis_object_dtype\u001b[0m\u001b[0;34m(\u001b[0m\u001b[0marr\u001b[0m\u001b[0;34m)\u001b[0m\u001b[0;34m:\u001b[0m\u001b[0;34m\u001b[0m\u001b[0;34m\u001b[0m\u001b[0m\n",
            "\u001b[0;31mValueError\u001b[0m: Cannot convert non-finite values (NA or inf) to integer"
          ]
        }
      ]
    },
    {
      "cell_type": "code",
      "metadata": {
        "id": "Kf8PLFghpYu-"
      },
      "source": [
        "ks['launched_month']=ks['launched'].dt.month"
      ],
      "execution_count": 34,
      "outputs": []
    },
    {
      "cell_type": "code",
      "metadata": {
        "id": "xyOqD6zJpYu-"
      },
      "source": [
        "ks['launched_day']=ks['launched'].dt.day"
      ],
      "execution_count": 35,
      "outputs": []
    },
    {
      "cell_type": "code",
      "metadata": {
        "colab": {
          "base_uri": "https://localhost:8080/",
          "height": 407
        },
        "id": "_3_LwpLXpYu-",
        "outputId": "6861faaf-a2e5-4429-c453-e3f7fc63d9cd"
      },
      "source": [
        "ks['launched_year'].value_counts().plot(kind='barh', figsize=(14,6), title='project launch years')"
      ],
      "execution_count": 36,
      "outputs": [
        {
          "output_type": "execute_result",
          "data": {
            "text/plain": [
              "<matplotlib.axes._subplots.AxesSubplot at 0x7fa19b9c4048>"
            ]
          },
          "metadata": {
            "tags": []
          },
          "execution_count": 36
        },
        {
          "output_type": "display_data",
          "data": {
            "image/png": "[encoded data removed]",
            "text/plain": [
              "<Figure size 1008x432 with 1 Axes>"
            ]
          },
          "metadata": {
            "tags": [],
            "needs_background": "light"
          }
        }
      ]
    },
    {
      "cell_type": "code",
      "metadata": {
        "colab": {
          "base_uri": "https://localhost:8080/",
          "height": 462
        },
        "id": "G9yUzNM7pYvE",
        "outputId": "36fd3416-0abd-4be7-88ab-d485ba9f90ab"
      },
      "source": [
        "# visualize the date between years 2009-2017\n",
        "a = ks[(ks['launched_year'] < 2018) & (ks['launched_year'] > 2007)]\n",
        "a.head()"
      ],
      "execution_count": 37,
      "outputs": [
        {
          "output_type": "execute_result",
          "data": {
            "text/html": [
              "<div>\n",
              "<style scoped>\n",
              "    .dataframe tbody tr th:only-of-type {\n",
              "        vertical-align: middle;\n",
              "    }\n",
              "\n",
              "    .dataframe tbody tr th {\n",
              "        vertical-align: top;\n",
              "    }\n",
              "\n",
              "    .dataframe thead th {\n",
              "        text-align: right;\n",
              "    }\n",
              "</style>\n",
              "<table border=\"1\" class=\"dataframe\">\n",
              "  <thead>\n",
              "    <tr style=\"text-align: right;\">\n",
              "      <th></th>\n",
              "      <th>ID</th>\n",
              "      <th>name</th>\n",
              "      <th>category</th>\n",
              "      <th>main_category</th>\n",
              "      <th>currency</th>\n",
              "      <th>deadline</th>\n",
              "      <th>goal</th>\n",
              "      <th>launched</th>\n",
              "      <th>pledged</th>\n",
              "      <th>state</th>\n",
              "      <th>backers</th>\n",
              "      <th>country</th>\n",
              "      <th>usd.pledged</th>\n",
              "      <th>state_lump</th>\n",
              "      <th>launched_year</th>\n",
              "      <th>launched_month</th>\n",
              "      <th>launched_day</th>\n",
              "    </tr>\n",
              "  </thead>\n",
              "  <tbody>\n",
              "    <tr>\n",
              "      <th>0</th>\n",
              "      <td>1000002330</td>\n",
              "      <td>The Songs of Adelaide &amp; Abullah</td>\n",
              "      <td>Poetry</td>\n",
              "      <td>Publishing</td>\n",
              "      <td>GBP</td>\n",
              "      <td>2015-10-09</td>\n",
              "      <td>1000</td>\n",
              "      <td>2015-08-11 12:12:28</td>\n",
              "      <td>0</td>\n",
              "      <td>failed</td>\n",
              "      <td>0</td>\n",
              "      <td>GB</td>\n",
              "      <td>0</td>\n",
              "      <td>failed</td>\n",
              "      <td>2015.0</td>\n",
              "      <td>8.0</td>\n",
              "      <td>11.0</td>\n",
              "    </tr>\n",
              "    <tr>\n",
              "      <th>1</th>\n",
              "      <td>1000003930</td>\n",
              "      <td>Greeting From Earth: ZGAC Arts Capsule For ET</td>\n",
              "      <td>Narrative Film</td>\n",
              "      <td>Film &amp; Video</td>\n",
              "      <td>USD</td>\n",
              "      <td>2017-11-01</td>\n",
              "      <td>30000</td>\n",
              "      <td>2017-09-02 04:43:57</td>\n",
              "      <td>2421</td>\n",
              "      <td>failed</td>\n",
              "      <td>15</td>\n",
              "      <td>US</td>\n",
              "      <td>100</td>\n",
              "      <td>failed</td>\n",
              "      <td>2017.0</td>\n",
              "      <td>9.0</td>\n",
              "      <td>2.0</td>\n",
              "    </tr>\n",
              "    <tr>\n",
              "      <th>2</th>\n",
              "      <td>1000004038</td>\n",
              "      <td>Where is Hank?</td>\n",
              "      <td>Narrative Film</td>\n",
              "      <td>Film &amp; Video</td>\n",
              "      <td>USD</td>\n",
              "      <td>2013-02-26</td>\n",
              "      <td>45000</td>\n",
              "      <td>2013-01-12 00:20:50</td>\n",
              "      <td>220</td>\n",
              "      <td>failed</td>\n",
              "      <td>3</td>\n",
              "      <td>US</td>\n",
              "      <td>220</td>\n",
              "      <td>failed</td>\n",
              "      <td>2013.0</td>\n",
              "      <td>1.0</td>\n",
              "      <td>12.0</td>\n",
              "    </tr>\n",
              "    <tr>\n",
              "      <th>3</th>\n",
              "      <td>1000007540</td>\n",
              "      <td>ToshiCapital Rekordz Needs Help to Complete Album</td>\n",
              "      <td>Music</td>\n",
              "      <td>Music</td>\n",
              "      <td>USD</td>\n",
              "      <td>2012-04-16</td>\n",
              "      <td>5000</td>\n",
              "      <td>2012-03-17 03:24:11</td>\n",
              "      <td>1</td>\n",
              "      <td>failed</td>\n",
              "      <td>1</td>\n",
              "      <td>US</td>\n",
              "      <td>1</td>\n",
              "      <td>failed</td>\n",
              "      <td>2012.0</td>\n",
              "      <td>3.0</td>\n",
              "      <td>17.0</td>\n",
              "    </tr>\n",
              "    <tr>\n",
              "      <th>4</th>\n",
              "      <td>1000011046</td>\n",
              "      <td>Community Film Project: The Art of Neighborhoo...</td>\n",
              "      <td>Film &amp; Video</td>\n",
              "      <td>Film &amp; Video</td>\n",
              "      <td>USD</td>\n",
              "      <td>2015-08-29</td>\n",
              "      <td>19500</td>\n",
              "      <td>2015-07-04 08:35:03</td>\n",
              "      <td>1283</td>\n",
              "      <td>canceled</td>\n",
              "      <td>14</td>\n",
              "      <td>US</td>\n",
              "      <td>1283</td>\n",
              "      <td>failed</td>\n",
              "      <td>2015.0</td>\n",
              "      <td>7.0</td>\n",
              "      <td>4.0</td>\n",
              "    </tr>\n",
              "  </tbody>\n",
              "</table>\n",
              "</div>"
            ],
            "text/plain": [
              "           ID  ... launched_day\n",
              "0  1000002330  ...         11.0\n",
              "1  1000003930  ...          2.0\n",
              "2  1000004038  ...         12.0\n",
              "3  1000007540  ...         17.0\n",
              "4  1000011046  ...          4.0\n",
              "\n",
              "[5 rows x 17 columns]"
            ]
          },
          "metadata": {
            "tags": []
          },
          "execution_count": 37
        }
      ]
    },
    {
      "cell_type": "code",
      "metadata": {
        "colab": {
          "base_uri": "https://localhost:8080/",
          "height": 407
        },
        "id": "SDg7WKJtpYvF",
        "outputId": "1ce3c4b5-3ba8-43c2-f3d1-ee0ca9f6126e"
      },
      "source": [
        "a['launched_year'].value_counts().plot(kind='barh', figsize=(14,6), title='project launch years')"
      ],
      "execution_count": 38,
      "outputs": [
        {
          "output_type": "execute_result",
          "data": {
            "text/plain": [
              "<matplotlib.axes._subplots.AxesSubplot at 0x7fa19b6adbe0>"
            ]
          },
          "metadata": {
            "tags": []
          },
          "execution_count": 38
        },
        {
          "output_type": "display_data",
          "data": {
            "image/png": "[encoded data removed]",
            "text/plain": [
              "<Figure size 1008x432 with 1 Axes>"
            ]
          },
          "metadata": {
            "tags": [],
            "needs_background": "light"
          }
        }
      ]
    },
    {
      "cell_type": "code",
      "metadata": {
        "colab": {
          "base_uri": "https://localhost:8080/"
        },
        "id": "C0H2EMe-pYvF",
        "outputId": "520685e9-ce23-4af9-d349-a50022d2b8ab"
      },
      "source": [
        "ks_dummy = pd.get_dummies(ks, columns = ['main_category','state_lump', 'currency', 'country' ], drop_first = True)\n",
        "\n",
        "print(list(ks_dummy.columns))\n"
      ],
      "execution_count": 39,
      "outputs": [
        {
          "output_type": "stream",
          "text": [
            "['ID', 'name', 'category', 'deadline', 'goal', 'launched', 'pledged', 'state', 'backers', 'usd.pledged', 'launched_year', 'launched_month', 'launched_day', 'main_category_Art', 'main_category_Design', 'main_category_Fashion', 'main_category_Film & Video', 'main_category_Food', 'main_category_Games', 'main_category_Music', 'main_category_Photography', 'main_category_Publishing', 'main_category_Technology', 'main_category_Theater', 'state_lump_successful', 'currency_AUD', 'currency_CAD', 'currency_CHF', 'currency_DKK', 'currency_EUR', 'currency_GBP', 'currency_MXN', 'currency_NOK', 'currency_NZD', 'currency_SEK', 'currency_USD', 'country_AU', 'country_CA', 'country_DE', 'country_FR', 'country_GB', 'country_IT', 'country_N,0\"', 'country_NL', 'country_US']\n"
          ],
          "name": "stdout"
        }
      ]
    },
    {
      "cell_type": "code",
      "metadata": {
        "scrolled": true,
        "colab": {
          "base_uri": "https://localhost:8080/",
          "height": 479
        },
        "id": "dVlbCCBVpYvG",
        "outputId": "a919cee7-6bc6-404d-9ccc-2062141b7161"
      },
      "source": [
        "ks_dummy.head()"
      ],
      "execution_count": 40,
      "outputs": [
        {
          "output_type": "execute_result",
          "data": {
            "text/html": [
              "<div>\n",
              "<style scoped>\n",
              "    .dataframe tbody tr th:only-of-type {\n",
              "        vertical-align: middle;\n",
              "    }\n",
              "\n",
              "    .dataframe tbody tr th {\n",
              "        vertical-align: top;\n",
              "    }\n",
              "\n",
              "    .dataframe thead th {\n",
              "        text-align: right;\n",
              "    }\n",
              "</style>\n",
              "<table border=\"1\" class=\"dataframe\">\n",
              "  <thead>\n",
              "    <tr style=\"text-align: right;\">\n",
              "      <th></th>\n",
              "      <th>ID</th>\n",
              "      <th>name</th>\n",
              "      <th>category</th>\n",
              "      <th>deadline</th>\n",
              "      <th>goal</th>\n",
              "      <th>launched</th>\n",
              "      <th>pledged</th>\n",
              "      <th>state</th>\n",
              "      <th>backers</th>\n",
              "      <th>usd.pledged</th>\n",
              "      <th>launched_year</th>\n",
              "      <th>launched_month</th>\n",
              "      <th>launched_day</th>\n",
              "      <th>main_category_Art</th>\n",
              "      <th>main_category_Design</th>\n",
              "      <th>main_category_Fashion</th>\n",
              "      <th>main_category_Film &amp; Video</th>\n",
              "      <th>main_category_Food</th>\n",
              "      <th>main_category_Games</th>\n",
              "      <th>main_category_Music</th>\n",
              "      <th>main_category_Photography</th>\n",
              "      <th>main_category_Publishing</th>\n",
              "      <th>main_category_Technology</th>\n",
              "      <th>main_category_Theater</th>\n",
              "      <th>state_lump_successful</th>\n",
              "      <th>currency_AUD</th>\n",
              "      <th>currency_CAD</th>\n",
              "      <th>currency_CHF</th>\n",
              "      <th>currency_DKK</th>\n",
              "      <th>currency_EUR</th>\n",
              "      <th>currency_GBP</th>\n",
              "      <th>currency_MXN</th>\n",
              "      <th>currency_NOK</th>\n",
              "      <th>currency_NZD</th>\n",
              "      <th>currency_SEK</th>\n",
              "      <th>currency_USD</th>\n",
              "      <th>country_AU</th>\n",
              "      <th>country_CA</th>\n",
              "      <th>country_DE</th>\n",
              "      <th>country_FR</th>\n",
              "      <th>country_GB</th>\n",
              "      <th>country_IT</th>\n",
              "      <th>country_N,0\"</th>\n",
              "      <th>country_NL</th>\n",
              "      <th>country_US</th>\n",
              "    </tr>\n",
              "  </thead>\n",
              "  <tbody>\n",
              "    <tr>\n",
              "      <th>0</th>\n",
              "      <td>1000002330</td>\n",
              "      <td>The Songs of Adelaide &amp; Abullah</td>\n",
              "      <td>Poetry</td>\n",
              "      <td>2015-10-09</td>\n",
              "      <td>1000</td>\n",
              "      <td>2015-08-11 12:12:28</td>\n",
              "      <td>0</td>\n",
              "      <td>failed</td>\n",
              "      <td>0</td>\n",
              "      <td>0</td>\n",
              "      <td>2015.0</td>\n",
              "      <td>8.0</td>\n",
              "      <td>11.0</td>\n",
              "      <td>0</td>\n",
              "      <td>0</td>\n",
              "      <td>0</td>\n",
              "      <td>0</td>\n",
              "      <td>0</td>\n",
              "      <td>0</td>\n",
              "      <td>0</td>\n",
              "      <td>0</td>\n",
              "      <td>1</td>\n",
              "      <td>0</td>\n",
              "      <td>0</td>\n",
              "      <td>0</td>\n",
              "      <td>0</td>\n",
              "      <td>0</td>\n",
              "      <td>0</td>\n",
              "      <td>0</td>\n",
              "      <td>0</td>\n",
              "      <td>1</td>\n",
              "      <td>0</td>\n",
              "      <td>0</td>\n",
              "      <td>0</td>\n",
              "      <td>0</td>\n",
              "      <td>0</td>\n",
              "      <td>0</td>\n",
              "      <td>0</td>\n",
              "      <td>0</td>\n",
              "      <td>0</td>\n",
              "      <td>1</td>\n",
              "      <td>0</td>\n",
              "      <td>0</td>\n",
              "      <td>0</td>\n",
              "      <td>0</td>\n",
              "    </tr>\n",
              "    <tr>\n",
              "      <th>1</th>\n",
              "      <td>1000003930</td>\n",
              "      <td>Greeting From Earth: ZGAC Arts Capsule For ET</td>\n",
              "      <td>Narrative Film</td>\n",
              "      <td>2017-11-01</td>\n",
              "      <td>30000</td>\n",
              "      <td>2017-09-02 04:43:57</td>\n",
              "      <td>2421</td>\n",
              "      <td>failed</td>\n",
              "      <td>15</td>\n",
              "      <td>100</td>\n",
              "      <td>2017.0</td>\n",
              "      <td>9.0</td>\n",
              "      <td>2.0</td>\n",
              "      <td>0</td>\n",
              "      <td>0</td>\n",
              "      <td>0</td>\n",
              "      <td>1</td>\n",
              "      <td>0</td>\n",
              "      <td>0</td>\n",
              "      <td>0</td>\n",
              "      <td>0</td>\n",
              "      <td>0</td>\n",
              "      <td>0</td>\n",
              "      <td>0</td>\n",
              "      <td>0</td>\n",
              "      <td>0</td>\n",
              "      <td>0</td>\n",
              "      <td>0</td>\n",
              "      <td>0</td>\n",
              "      <td>0</td>\n",
              "      <td>0</td>\n",
              "      <td>0</td>\n",
              "      <td>0</td>\n",
              "      <td>0</td>\n",
              "      <td>0</td>\n",
              "      <td>1</td>\n",
              "      <td>0</td>\n",
              "      <td>0</td>\n",
              "      <td>0</td>\n",
              "      <td>0</td>\n",
              "      <td>0</td>\n",
              "      <td>0</td>\n",
              "      <td>0</td>\n",
              "      <td>0</td>\n",
              "      <td>1</td>\n",
              "    </tr>\n",
              "    <tr>\n",
              "      <th>2</th>\n",
              "      <td>1000004038</td>\n",
              "      <td>Where is Hank?</td>\n",
              "      <td>Narrative Film</td>\n",
              "      <td>2013-02-26</td>\n",
              "      <td>45000</td>\n",
              "      <td>2013-01-12 00:20:50</td>\n",
              "      <td>220</td>\n",
              "      <td>failed</td>\n",
              "      <td>3</td>\n",
              "      <td>220</td>\n",
              "      <td>2013.0</td>\n",
              "      <td>1.0</td>\n",
              "      <td>12.0</td>\n",
              "      <td>0</td>\n",
              "      <td>0</td>\n",
              "      <td>0</td>\n",
              "      <td>1</td>\n",
              "      <td>0</td>\n",
              "      <td>0</td>\n",
              "      <td>0</td>\n",
              "      <td>0</td>\n",
              "      <td>0</td>\n",
              "      <td>0</td>\n",
              "      <td>0</td>\n",
              "      <td>0</td>\n",
              "      <td>0</td>\n",
              "      <td>0</td>\n",
              "      <td>0</td>\n",
              "      <td>0</td>\n",
              "      <td>0</td>\n",
              "      <td>0</td>\n",
              "      <td>0</td>\n",
              "      <td>0</td>\n",
              "      <td>0</td>\n",
              "      <td>0</td>\n",
              "      <td>1</td>\n",
              "      <td>0</td>\n",
              "      <td>0</td>\n",
              "      <td>0</td>\n",
              "      <td>0</td>\n",
              "      <td>0</td>\n",
              "      <td>0</td>\n",
              "      <td>0</td>\n",
              "      <td>0</td>\n",
              "      <td>1</td>\n",
              "    </tr>\n",
              "    <tr>\n",
              "      <th>3</th>\n",
              "      <td>1000007540</td>\n",
              "      <td>ToshiCapital Rekordz Needs Help to Complete Album</td>\n",
              "      <td>Music</td>\n",
              "      <td>2012-04-16</td>\n",
              "      <td>5000</td>\n",
              "      <td>2012-03-17 03:24:11</td>\n",
              "      <td>1</td>\n",
              "      <td>failed</td>\n",
              "      <td>1</td>\n",
              "      <td>1</td>\n",
              "      <td>2012.0</td>\n",
              "      <td>3.0</td>\n",
              "      <td>17.0</td>\n",
              "      <td>0</td>\n",
              "      <td>0</td>\n",
              "      <td>0</td>\n",
              "      <td>0</td>\n",
              "      <td>0</td>\n",
              "      <td>0</td>\n",
              "      <td>1</td>\n",
              "      <td>0</td>\n",
              "      <td>0</td>\n",
              "      <td>0</td>\n",
              "      <td>0</td>\n",
              "      <td>0</td>\n",
              "      <td>0</td>\n",
              "      <td>0</td>\n",
              "      <td>0</td>\n",
              "      <td>0</td>\n",
              "      <td>0</td>\n",
              "      <td>0</td>\n",
              "      <td>0</td>\n",
              "      <td>0</td>\n",
              "      <td>0</td>\n",
              "      <td>0</td>\n",
              "      <td>1</td>\n",
              "      <td>0</td>\n",
              "      <td>0</td>\n",
              "      <td>0</td>\n",
              "      <td>0</td>\n",
              "      <td>0</td>\n",
              "      <td>0</td>\n",
              "      <td>0</td>\n",
              "      <td>0</td>\n",
              "      <td>1</td>\n",
              "    </tr>\n",
              "    <tr>\n",
              "      <th>4</th>\n",
              "      <td>1000011046</td>\n",
              "      <td>Community Film Project: The Art of Neighborhoo...</td>\n",
              "      <td>Film &amp; Video</td>\n",
              "      <td>2015-08-29</td>\n",
              "      <td>19500</td>\n",
              "      <td>2015-07-04 08:35:03</td>\n",
              "      <td>1283</td>\n",
              "      <td>canceled</td>\n",
              "      <td>14</td>\n",
              "      <td>1283</td>\n",
              "      <td>2015.0</td>\n",
              "      <td>7.0</td>\n",
              "      <td>4.0</td>\n",
              "      <td>0</td>\n",
              "      <td>0</td>\n",
              "      <td>0</td>\n",
              "      <td>1</td>\n",
              "      <td>0</td>\n",
              "      <td>0</td>\n",
              "      <td>0</td>\n",
              "      <td>0</td>\n",
              "      <td>0</td>\n",
              "      <td>0</td>\n",
              "      <td>0</td>\n",
              "      <td>0</td>\n",
              "      <td>0</td>\n",
              "      <td>0</td>\n",
              "      <td>0</td>\n",
              "      <td>0</td>\n",
              "      <td>0</td>\n",
              "      <td>0</td>\n",
              "      <td>0</td>\n",
              "      <td>0</td>\n",
              "      <td>0</td>\n",
              "      <td>0</td>\n",
              "      <td>1</td>\n",
              "      <td>0</td>\n",
              "      <td>0</td>\n",
              "      <td>0</td>\n",
              "      <td>0</td>\n",
              "      <td>0</td>\n",
              "      <td>0</td>\n",
              "      <td>0</td>\n",
              "      <td>0</td>\n",
              "      <td>1</td>\n",
              "    </tr>\n",
              "  </tbody>\n",
              "</table>\n",
              "</div>"
            ],
            "text/plain": [
              "           ID  ... country_US\n",
              "0  1000002330  ...          0\n",
              "1  1000003930  ...          1\n",
              "2  1000004038  ...          1\n",
              "3  1000007540  ...          1\n",
              "4  1000011046  ...          1\n",
              "\n",
              "[5 rows x 45 columns]"
            ]
          },
          "metadata": {
            "tags": []
          },
          "execution_count": 40
        }
      ]
    },
    {
      "cell_type": "code",
      "metadata": {
        "colab": {
          "base_uri": "https://localhost:8080/"
        },
        "id": "dEu3ceTPpYvH",
        "outputId": "6b57012d-c37f-4878-c405-59db8a0b2f5d"
      },
      "source": [
        "ks_dummy['deadline']=pd.to_datetime(ks_dummy['deadline'], format=\"%Y/%m/%d\",  errors='coerce').dt.date\n",
        "ks_dummy['launched']=pd.to_datetime(ks_dummy['launched'], format=\"%Y/%m/%d\").dt.date\n",
        "\n",
        "\n",
        "ks_dummy['longevity'] = (ks_dummy['deadline'] - ks_dummy['launched']).dt.days\n",
        "\n",
        "ks_dummy.longevity.head()"
      ],
      "execution_count": 41,
      "outputs": [
        {
          "output_type": "execute_result",
          "data": {
            "text/plain": [
              "0    59.0\n",
              "1    60.0\n",
              "2    45.0\n",
              "3    30.0\n",
              "4    56.0\n",
              "Name: longevity, dtype: float64"
            ]
          },
          "metadata": {
            "tags": []
          },
          "execution_count": 41
        }
      ]
    },
    {
      "cell_type": "code",
      "metadata": {
        "id": "Y5N7vfw_pYvH"
      },
      "source": [
        "# How many days from launch day to deadline has passed for each project. "
      ],
      "execution_count": 42,
      "outputs": []
    },
    {
      "cell_type": "code",
      "metadata": {
        "id": "1KOSHwntpYvH"
      },
      "source": [
        "ks_mean = ks[['main_category','pledged']]"
      ],
      "execution_count": 43,
      "outputs": []
    },
    {
      "cell_type": "code",
      "metadata": {
        "id": "mFJgLkGMpYvI"
      },
      "source": [
        "ks_mean1 = pd.to_numeric(ks_mean['pledged'] , errors='coerce').groupby(ks_mean['main_category']).mean()"
      ],
      "execution_count": 44,
      "outputs": []
    },
    {
      "cell_type": "code",
      "metadata": {
        "colab": {
          "base_uri": "https://localhost:8080/"
        },
        "id": "ZhOL2rcPpYvI",
        "outputId": "e997bcbb-873c-404e-e399-9a809ce5062d"
      },
      "source": [
        "ks_mean1 = pd.DataFrame(ks_mean1)\n",
        "sorted_pledge = ks_mean1.sort_values('pledged', ascending=False)\n",
        "print(sorted_pledge)"
      ],
      "execution_count": 45,
      "outputs": [
        {
          "output_type": "stream",
          "text": [
            "                    pledged\n",
            "main_category              \n",
            "Design         25788.671833\n",
            "Technology     21848.222988\n",
            "Games          21351.519171\n",
            "Fashion         6327.620362\n",
            "Film & Video    6269.469818\n",
            "Food            5217.865902\n",
            "Other           4200.032061\n",
            "Theater         4022.504375\n",
            "Music           3919.288843\n",
            "Publishing      3477.816587\n",
            "Photography     3462.573504\n",
            "Art             3420.555728\n"
          ],
          "name": "stdout"
        }
      ]
    },
    {
      "cell_type": "markdown",
      "metadata": {
        "id": "jkhsMQ4dpYvJ"
      },
      "source": [
        "Design, Technology and Games have the highest mean of pledged money. The trio is the leader of categories by far!"
      ]
    },
    {
      "cell_type": "code",
      "metadata": {
        "colab": {
          "base_uri": "https://localhost:8080/"
        },
        "id": "d-gGvwHRpYvK",
        "outputId": "a3acec1f-a10c-4b8f-cc88-99b894802e95"
      },
      "source": [
        "ks_dummy['category'] = fct_lump(ks_dummy['category'], n= 11)\n",
        "ks_days = ks_dummy[['category','longevity']]\n",
        "ks_days = pd.to_numeric(ks_days['longevity'] , errors='coerce').groupby(ks_days['category']).mean()\n",
        "ks_days = pd.DataFrame(ks_days)\n",
        "sorted_days = ks_days.sort_values('longevity', ascending = False)\n",
        "print(sorted_days)"
      ],
      "execution_count": 46,
      "outputs": [
        {
          "output_type": "stream",
          "text": [
            "                longevity\n",
            "category                 \n",
            "Film & Video    39.384416\n",
            "Documentary     37.135933\n",
            "Music           36.267666\n",
            "Product Design  34.971752\n",
            "Other           34.470363\n",
            "Nonfiction      34.456558\n",
            "Fiction         34.090575\n",
            "Video Games     34.036320\n",
            "Food            33.980114\n",
            "Fashion         33.432945\n",
            "Shorts          33.360429\n",
            "Tabletop Games  31.194190\n"
          ],
          "name": "stdout"
        }
      ]
    },
    {
      "cell_type": "code",
      "metadata": {
        "id": "bBiJCHz4pYvL"
      },
      "source": [
        "#Film & Video projects has longest campaign days"
      ],
      "execution_count": 47,
      "outputs": []
    },
    {
      "cell_type": "code",
      "metadata": {
        "colab": {
          "base_uri": "https://localhost:8080/"
        },
        "id": "zb28Cqw4pYvL",
        "outputId": "c37ee49e-6b8f-4926-bf84-9d3b558ae93b"
      },
      "source": [
        "ks_mean2 = pd.to_numeric(ks['backers'] , errors='coerce').groupby(ks['main_category']).mean()\n",
        "ks_mean2 = pd.DataFrame(ks_mean2)\n",
        "sorted_backers = ks_mean2.sort_values('backers', ascending = False)\n",
        "print(sorted_backers)"
      ],
      "execution_count": 48,
      "outputs": [
        {
          "output_type": "stream",
          "text": [
            "                  backers\n",
            "main_category            \n",
            "Games          322.834224\n",
            "Design         239.612552\n",
            "Technology     165.021999\n",
            "Other           73.767558\n",
            "Film & Video    66.234488\n",
            "Fashion         61.812661\n",
            "Publishing      54.273865\n",
            "Food            54.262380\n",
            "Music           51.784795\n",
            "Theater         47.227210\n",
            "Art             40.934986\n",
            "Photography     38.603581\n"
          ],
          "name": "stdout"
        }
      ]
    },
    {
      "cell_type": "markdown",
      "metadata": {
        "id": "Iq4kTb45pYvM"
      },
      "source": [
        "Design, Technology and Games have the highest mean of number of backers. The trio is leader for pledged mean as well, so we can understand the strong correlation of number of backers and pledged amount. "
      ]
    },
    {
      "cell_type": "code",
      "metadata": {
        "id": "ZU8o7IArpYvM"
      },
      "source": [
        "import csv"
      ],
      "execution_count": 49,
      "outputs": []
    },
    {
      "cell_type": "markdown",
      "metadata": {
        "id": "Q3WdS-nvpYvM"
      },
      "source": [
        "\n",
        "filename = 'ks_dummy_coded.csv'\n",
        "with open (filename, 'w') as csvfile:\n",
        "    csvwriter = csv.writer(csvfile)\n",
        "    csvwriter.writerow(list(ks_dummy.columns))\n",
        "    csvwriter.writerows(ks_dummy)\n",
        "    # I can not believe writing data to csv in python is so much painful!!!"
      ]
    },
    {
      "cell_type": "markdown",
      "metadata": {
        "id": "ze8ScDfIpYvN"
      },
      "source": [
        "# Statistical Tests"
      ]
    },
    {
      "cell_type": "markdown",
      "metadata": {
        "id": "3ZBHefH4pYvN"
      },
      "source": [
        "Hypothesis: According to Kickstarter website stats, around 60% of the projects have failed. We want to test if this statistic is represented in our data using Goodness of Fit Chi-Squares test. (Source: https://www.kickstarter.com/help/stats)\n"
      ]
    },
    {
      "cell_type": "code",
      "metadata": {
        "id": "x4XCjJggpYvN"
      },
      "source": [
        "import scipy, scipy.stats"
      ],
      "execution_count": 70,
      "outputs": []
    },
    {
      "cell_type": "code",
      "metadata": {
        "scrolled": true,
        "colab": {
          "base_uri": "https://localhost:8080/"
        },
        "id": "h2FTBHFypYvO",
        "outputId": "73ff89e6-fee3-4784-8022-f82254a94974"
      },
      "source": [
        "ks.state_lump.value_counts()"
      ],
      "execution_count": 71,
      "outputs": [
        {
          "output_type": "execute_result",
          "data": {
            "text/plain": [
              "failed        455374\n",
              "successful    247037\n",
              "Name: state_lump, dtype: int64"
            ]
          },
          "metadata": {
            "tags": []
          },
          "execution_count": 71
        }
      ]
    },
    {
      "cell_type": "code",
      "metadata": {
        "id": "ThEAD3F8pYvO"
      },
      "source": [
        "observed_values = scipy.array([455374, 247037])\n",
        "expected_values = scipy.array([421446, 280965])"
      ],
      "execution_count": 72,
      "outputs": []
    },
    {
      "cell_type": "code",
      "metadata": {
        "colab": {
          "base_uri": "https://localhost:8080/"
        },
        "id": "2wS3kj4bpYvO",
        "outputId": "cdf2dd27-99f5-4df8-9f78-c585b11dced3"
      },
      "source": [
        "scipy.stats.chisquare(observed_values, f_exp=expected_values)"
      ],
      "execution_count": 73,
      "outputs": [
        {
          "output_type": "execute_result",
          "data": {
            "text/plain": [
              "Power_divergenceResult(statistic=6828.3168294956, pvalue=0.0)"
            ]
          },
          "metadata": {
            "tags": []
          },
          "execution_count": 73
        }
      ]
    },
    {
      "cell_type": "markdown",
      "metadata": {
        "id": "HjPCO7PLpYvP"
      },
      "source": [
        "According to Goodness of Fit Chi-Squares test, Our data is significantly different than Kickstarter source data. Most likely the reason for this difference is we gathered all the values other than 'successfull' as 'failed ' under state column. "
      ]
    },
    {
      "cell_type": "markdown",
      "metadata": {
        "id": "W2neuVIWpYvP"
      },
      "source": [
        "Independent Chi-Square\n",
        "Hypothesis: Main category and project state are independent. "
      ]
    },
    {
      "cell_type": "code",
      "metadata": {
        "colab": {
          "base_uri": "https://localhost:8080/",
          "height": 452
        },
        "id": "amCiXtAIpYvP",
        "outputId": "ad806b39-cc27-440c-89bc-fc3fc0d76f09"
      },
      "source": [
        "category_crosstab = pd.crosstab(ks['main_category'], ks['state_lump'])\n",
        "category_crosstab\n"
      ],
      "execution_count": 74,
      "outputs": [
        {
          "output_type": "execute_result",
          "data": {
            "text/html": [
              "<div>\n",
              "<style scoped>\n",
              "    .dataframe tbody tr th:only-of-type {\n",
              "        vertical-align: middle;\n",
              "    }\n",
              "\n",
              "    .dataframe tbody tr th {\n",
              "        vertical-align: top;\n",
              "    }\n",
              "\n",
              "    .dataframe thead th {\n",
              "        text-align: right;\n",
              "    }\n",
              "</style>\n",
              "<table border=\"1\" class=\"dataframe\">\n",
              "  <thead>\n",
              "    <tr style=\"text-align: right;\">\n",
              "      <th>state_lump</th>\n",
              "      <th>failed</th>\n",
              "      <th>successful</th>\n",
              "    </tr>\n",
              "    <tr>\n",
              "      <th>main_category</th>\n",
              "      <th></th>\n",
              "      <th></th>\n",
              "    </tr>\n",
              "  </thead>\n",
              "  <tbody>\n",
              "    <tr>\n",
              "      <th>Other</th>\n",
              "      <td>31536</td>\n",
              "      <td>20447</td>\n",
              "    </tr>\n",
              "    <tr>\n",
              "      <th>Art</th>\n",
              "      <td>30964</td>\n",
              "      <td>21164</td>\n",
              "    </tr>\n",
              "    <tr>\n",
              "      <th>Design</th>\n",
              "      <td>35433</td>\n",
              "      <td>18509</td>\n",
              "    </tr>\n",
              "    <tr>\n",
              "      <th>Fashion</th>\n",
              "      <td>31311</td>\n",
              "      <td>9903</td>\n",
              "    </tr>\n",
              "    <tr>\n",
              "      <th>Film &amp; Video</th>\n",
              "      <td>76237</td>\n",
              "      <td>45027</td>\n",
              "    </tr>\n",
              "    <tr>\n",
              "      <th>Food</th>\n",
              "      <td>34490</td>\n",
              "      <td>11341</td>\n",
              "    </tr>\n",
              "    <tr>\n",
              "      <th>Games</th>\n",
              "      <td>41336</td>\n",
              "      <td>21903</td>\n",
              "    </tr>\n",
              "    <tr>\n",
              "      <th>Music</th>\n",
              "      <td>52702</td>\n",
              "      <td>45960</td>\n",
              "    </tr>\n",
              "    <tr>\n",
              "      <th>Photography</th>\n",
              "      <td>14251</td>\n",
              "      <td>6208</td>\n",
              "    </tr>\n",
              "    <tr>\n",
              "      <th>Publishing</th>\n",
              "      <td>51552</td>\n",
              "      <td>22555</td>\n",
              "    </tr>\n",
              "    <tr>\n",
              "      <th>Technology</th>\n",
              "      <td>47201</td>\n",
              "      <td>11496</td>\n",
              "    </tr>\n",
              "    <tr>\n",
              "      <th>Theater</th>\n",
              "      <td>8361</td>\n",
              "      <td>12524</td>\n",
              "    </tr>\n",
              "  </tbody>\n",
              "</table>\n",
              "</div>"
            ],
            "text/plain": [
              "state_lump     failed  successful\n",
              "main_category                    \n",
              "Other           31536       20447\n",
              "Art             30964       21164\n",
              "Design          35433       18509\n",
              "Fashion         31311        9903\n",
              "Film & Video    76237       45027\n",
              "Food            34490       11341\n",
              "Games           41336       21903\n",
              "Music           52702       45960\n",
              "Photography     14251        6208\n",
              "Publishing      51552       22555\n",
              "Technology      47201       11496\n",
              "Theater          8361       12524"
            ]
          },
          "metadata": {
            "tags": []
          },
          "execution_count": 74
        }
      ]
    },
    {
      "cell_type": "markdown",
      "metadata": {
        "id": "sg2BtnegpYvQ"
      },
      "source": [
        "Crosstab for Main category and project state. Table shows frequencies for main category. \n",
        "Assumption of 5 cases per expected cell is passed easily. "
      ]
    },
    {
      "cell_type": "code",
      "metadata": {
        "colab": {
          "base_uri": "https://localhost:8080/"
        },
        "id": "BYA2DqcMpYvQ",
        "outputId": "8f08a151-0ddf-46b3-88a7-80b1132ca639"
      },
      "source": [
        "stats.chi2_contingency(category_crosstab)"
      ],
      "execution_count": 75,
      "outputs": [
        {
          "output_type": "execute_result",
          "data": {
            "text/plain": [
              "(24186.5769647064, 0.0, 11, array([[33700.64910999, 18282.35089001],\n",
              "        [33794.65280584, 18333.34719416],\n",
              "        [34970.67145589, 18971.32854411],\n",
              "        [26719.09186502, 14494.90813498],\n",
              "        [78615.61498325, 42648.38501675],\n",
              "        [29712.2992009 , 16118.7007991 ],\n",
              "        [40997.92911273, 22241.07088727],\n",
              "        [63962.70785623, 34699.29214377],\n",
              "        [13263.59733262,  7195.40266738],\n",
              "        [48043.66819141, 26063.33180859],\n",
              "        [38053.34437815, 20643.65562185],\n",
              "        [13539.77370799,  7345.22629201]]))"
            ]
          },
          "metadata": {
            "tags": []
          },
          "execution_count": 75
        }
      ]
    },
    {
      "cell_type": "markdown",
      "metadata": {
        "id": "yitrEku9pYvR"
      },
      "source": [
        "our p value is significant which means independence is rejected, there is significant correlations between main category and project state. "
      ]
    },
    {
      "cell_type": "code",
      "metadata": {
        "scrolled": true,
        "colab": {
          "base_uri": "https://localhost:8080/",
          "height": 390
        },
        "id": "YHXLlVe2pYvR",
        "outputId": "4f79dd70-0af3-45f9-a918-14281e8d4c34"
      },
      "source": [
        "country_crosstab = pd.crosstab(ks['country'], ks['state_lump'])\n",
        "country_crosstab"
      ],
      "execution_count": 76,
      "outputs": [
        {
          "output_type": "execute_result",
          "data": {
            "text/html": [
              "<div>\n",
              "<style scoped>\n",
              "    .dataframe tbody tr th:only-of-type {\n",
              "        vertical-align: middle;\n",
              "    }\n",
              "\n",
              "    .dataframe tbody tr th {\n",
              "        vertical-align: top;\n",
              "    }\n",
              "\n",
              "    .dataframe thead th {\n",
              "        text-align: right;\n",
              "    }\n",
              "</style>\n",
              "<table border=\"1\" class=\"dataframe\">\n",
              "  <thead>\n",
              "    <tr style=\"text-align: right;\">\n",
              "      <th>state_lump</th>\n",
              "      <th>failed</th>\n",
              "      <th>successful</th>\n",
              "    </tr>\n",
              "    <tr>\n",
              "      <th>country</th>\n",
              "      <th></th>\n",
              "      <th></th>\n",
              "    </tr>\n",
              "  </thead>\n",
              "  <tbody>\n",
              "    <tr>\n",
              "      <th>Other</th>\n",
              "      <td>19749</td>\n",
              "      <td>5210</td>\n",
              "    </tr>\n",
              "    <tr>\n",
              "      <th>AU</th>\n",
              "      <td>10615</td>\n",
              "      <td>3460</td>\n",
              "    </tr>\n",
              "    <tr>\n",
              "      <th>CA</th>\n",
              "      <td>19547</td>\n",
              "      <td>7201</td>\n",
              "    </tr>\n",
              "    <tr>\n",
              "      <th>DE</th>\n",
              "      <td>5388</td>\n",
              "      <td>1467</td>\n",
              "    </tr>\n",
              "    <tr>\n",
              "      <th>FR</th>\n",
              "      <td>3429</td>\n",
              "      <td>1420</td>\n",
              "    </tr>\n",
              "    <tr>\n",
              "      <th>GB</th>\n",
              "      <td>39774</td>\n",
              "      <td>21407</td>\n",
              "    </tr>\n",
              "    <tr>\n",
              "      <th>IT</th>\n",
              "      <td>3957</td>\n",
              "      <td>671</td>\n",
              "    </tr>\n",
              "    <tr>\n",
              "      <th>N,0\"</th>\n",
              "      <td>3692</td>\n",
              "      <td>105</td>\n",
              "    </tr>\n",
              "    <tr>\n",
              "      <th>NL</th>\n",
              "      <td>4100</td>\n",
              "      <td>1027</td>\n",
              "    </tr>\n",
              "    <tr>\n",
              "      <th>US</th>\n",
              "      <td>345123</td>\n",
              "      <td>205069</td>\n",
              "    </tr>\n",
              "  </tbody>\n",
              "</table>\n",
              "</div>"
            ],
            "text/plain": [
              "state_lump  failed  successful\n",
              "country                       \n",
              "Other        19749        5210\n",
              "AU           10615        3460\n",
              "CA           19547        7201\n",
              "DE            5388        1467\n",
              "FR            3429        1420\n",
              "GB           39774       21407\n",
              "IT            3957         671\n",
              "N,0\"          3692         105\n",
              "NL            4100        1027\n",
              "US          345123      205069"
            ]
          },
          "metadata": {
            "tags": []
          },
          "execution_count": 76
        }
      ]
    },
    {
      "cell_type": "code",
      "metadata": {
        "colab": {
          "base_uri": "https://localhost:8080/"
        },
        "id": "ceNFrtMOpYvS",
        "outputId": "d631fc9c-8bd9-4528-9ff1-ed2683b974a3"
      },
      "source": [
        "stats.chi2_contingency(country_crosstab)"
      ],
      "execution_count": 77,
      "outputs": [
        {
          "output_type": "execute_result",
          "data": {
            "text/plain": [
              "(8569.608152574416, 0.0, 9, array([[ 16180.95341047,   8778.04658953],\n",
              "        [  9124.84151017,   4950.15848983],\n",
              "        [ 17340.76452675,   9407.23547325],\n",
              "        [  4444.10575859,   2410.89424141],\n",
              "        [  3143.61324922,   1705.38675078],\n",
              "        [ 39663.72493312,  21517.27506688],\n",
              "        [  3000.33865073,   1627.66134927],\n",
              "        [  2461.60022836,   1335.39977164],\n",
              "        [  3323.8410247 ,   1803.1589753 ],\n",
              "        [356690.21670788, 193501.78329212]]))"
            ]
          },
          "metadata": {
            "tags": []
          },
          "execution_count": 77
        }
      ]
    },
    {
      "cell_type": "markdown",
      "metadata": {
        "id": "ZAdTwWGkpYvT"
      },
      "source": [
        "Independence is rejected. Correlation between country and state of the project is significant. \n"
      ]
    },
    {
      "cell_type": "code",
      "metadata": {
        "colab": {
          "base_uri": "https://localhost:8080/",
          "height": 452
        },
        "id": "d2mmkorHpYvT",
        "outputId": "d9d9d6d9-832b-4a64-cfbd-0787eadbc39a"
      },
      "source": [
        "currency_crosstab = pd.crosstab(ks['currency'], ks['state_lump'])\n",
        "currency_crosstab\n"
      ],
      "execution_count": 78,
      "outputs": [
        {
          "output_type": "execute_result",
          "data": {
            "text/html": [
              "<div>\n",
              "<style scoped>\n",
              "    .dataframe tbody tr th:only-of-type {\n",
              "        vertical-align: middle;\n",
              "    }\n",
              "\n",
              "    .dataframe tbody tr th {\n",
              "        vertical-align: top;\n",
              "    }\n",
              "\n",
              "    .dataframe thead th {\n",
              "        text-align: right;\n",
              "    }\n",
              "</style>\n",
              "<table border=\"1\" class=\"dataframe\">\n",
              "  <thead>\n",
              "    <tr style=\"text-align: right;\">\n",
              "      <th>state_lump</th>\n",
              "      <th>failed</th>\n",
              "      <th>successful</th>\n",
              "    </tr>\n",
              "    <tr>\n",
              "      <th>currency</th>\n",
              "      <th></th>\n",
              "      <th></th>\n",
              "    </tr>\n",
              "  </thead>\n",
              "  <tbody>\n",
              "    <tr>\n",
              "      <th>Other</th>\n",
              "      <td>1614</td>\n",
              "      <td>447</td>\n",
              "    </tr>\n",
              "    <tr>\n",
              "      <th>AUD</th>\n",
              "      <td>10835</td>\n",
              "      <td>3462</td>\n",
              "    </tr>\n",
              "    <tr>\n",
              "      <th>CAD</th>\n",
              "      <td>19952</td>\n",
              "      <td>7207</td>\n",
              "    </tr>\n",
              "    <tr>\n",
              "      <th>CHF</th>\n",
              "      <td>973</td>\n",
              "      <td>273</td>\n",
              "    </tr>\n",
              "    <tr>\n",
              "      <th>DKK</th>\n",
              "      <td>1375</td>\n",
              "      <td>595</td>\n",
              "    </tr>\n",
              "    <tr>\n",
              "      <th>EUR</th>\n",
              "      <td>22863</td>\n",
              "      <td>6097</td>\n",
              "    </tr>\n",
              "    <tr>\n",
              "      <th>GBP</th>\n",
              "      <td>40665</td>\n",
              "      <td>21435</td>\n",
              "    </tr>\n",
              "    <tr>\n",
              "      <th>MXN</th>\n",
              "      <td>1568</td>\n",
              "      <td>398</td>\n",
              "    </tr>\n",
              "    <tr>\n",
              "      <th>NOK</th>\n",
              "      <td>990</td>\n",
              "      <td>272</td>\n",
              "    </tr>\n",
              "    <tr>\n",
              "      <th>NZD</th>\n",
              "      <td>1861</td>\n",
              "      <td>778</td>\n",
              "    </tr>\n",
              "    <tr>\n",
              "      <th>SEK</th>\n",
              "      <td>2244</td>\n",
              "      <td>844</td>\n",
              "    </tr>\n",
              "    <tr>\n",
              "      <th>USD</th>\n",
              "      <td>350434</td>\n",
              "      <td>205229</td>\n",
              "    </tr>\n",
              "  </tbody>\n",
              "</table>\n",
              "</div>"
            ],
            "text/plain": [
              "state_lump  failed  successful\n",
              "currency                      \n",
              "Other         1614         447\n",
              "AUD          10835        3462\n",
              "CAD          19952        7207\n",
              "CHF            973         273\n",
              "DKK           1375         595\n",
              "EUR          22863        6097\n",
              "GBP          40665       21435\n",
              "MXN           1568         398\n",
              "NOK            990         272\n",
              "NZD           1861         778\n",
              "SEK           2244         844\n",
              "USD         350434      205229"
            ]
          },
          "metadata": {
            "tags": []
          },
          "execution_count": 78
        }
      ]
    },
    {
      "cell_type": "code",
      "metadata": {
        "colab": {
          "base_uri": "https://localhost:8080/"
        },
        "id": "u_AzCO3-pYvU",
        "outputId": "9b41926e-982a-4ae0-e993-74d13e8ed1c9"
      },
      "source": [
        "stats.chi2_contingency(currency_crosstab)"
      ],
      "execution_count": 79,
      "outputs": [
        {
          "output_type": "execute_result",
          "data": {
            "text/plain": [
              "(5638.724200233166, 0.0, 11, array([[  1336.14908366,    724.85091634],\n",
              "        [  9268.76441001,   5028.23558999],\n",
              "        [ 17607.21638186,   9551.78361814],\n",
              "        [   807.78348289,    438.21651711],\n",
              "        [  1277.15366075,    692.84633925],\n",
              "        [ 18774.80711435,  10185.19288565],\n",
              "        [ 40259.51387436,  21840.48612564],\n",
              "        [  1274.56045535,    691.43954465],\n",
              "        [   818.1563045 ,    443.8436955 ],\n",
              "        [  1710.86726432,    928.13273568],\n",
              "        [  2001.95457076,   1086.04542924],\n",
              "        [360237.0733972 , 195425.9266028 ]]))"
            ]
          },
          "metadata": {
            "tags": []
          },
          "execution_count": 79
        }
      ]
    },
    {
      "cell_type": "markdown",
      "metadata": {
        "id": "rHBNStIOpYvU"
      },
      "source": [
        "as expected, currency and state of the project are not independent, so they are correlated. "
      ]
    },
    {
      "cell_type": "code",
      "metadata": {
        "colab": {
          "base_uri": "https://localhost:8080/",
          "height": 390
        },
        "id": "siKFlc9apYvU",
        "outputId": "baa5014c-5280-439c-eeb8-9e027a40a569"
      },
      "source": [
        "test_crosstab = pd.crosstab(ks['country'], ks['main_category'])\n",
        "test_crosstab"
      ],
      "execution_count": 80,
      "outputs": [
        {
          "output_type": "execute_result",
          "data": {
            "text/html": [
              "<div>\n",
              "<style scoped>\n",
              "    .dataframe tbody tr th:only-of-type {\n",
              "        vertical-align: middle;\n",
              "    }\n",
              "\n",
              "    .dataframe tbody tr th {\n",
              "        vertical-align: top;\n",
              "    }\n",
              "\n",
              "    .dataframe thead th {\n",
              "        text-align: right;\n",
              "    }\n",
              "</style>\n",
              "<table border=\"1\" class=\"dataframe\">\n",
              "  <thead>\n",
              "    <tr style=\"text-align: right;\">\n",
              "      <th>main_category</th>\n",
              "      <th>Other</th>\n",
              "      <th>Art</th>\n",
              "      <th>Design</th>\n",
              "      <th>Fashion</th>\n",
              "      <th>Film &amp; Video</th>\n",
              "      <th>Food</th>\n",
              "      <th>Games</th>\n",
              "      <th>Music</th>\n",
              "      <th>Photography</th>\n",
              "      <th>Publishing</th>\n",
              "      <th>Technology</th>\n",
              "      <th>Theater</th>\n",
              "    </tr>\n",
              "    <tr>\n",
              "      <th>country</th>\n",
              "      <th></th>\n",
              "      <th></th>\n",
              "      <th></th>\n",
              "      <th></th>\n",
              "      <th></th>\n",
              "      <th></th>\n",
              "      <th></th>\n",
              "      <th></th>\n",
              "      <th></th>\n",
              "      <th></th>\n",
              "      <th></th>\n",
              "      <th></th>\n",
              "    </tr>\n",
              "  </thead>\n",
              "  <tbody>\n",
              "    <tr>\n",
              "      <th>Other</th>\n",
              "      <td>1831</td>\n",
              "      <td>1397</td>\n",
              "      <td>2473</td>\n",
              "      <td>1494</td>\n",
              "      <td>2998</td>\n",
              "      <td>1279</td>\n",
              "      <td>2790</td>\n",
              "      <td>4040</td>\n",
              "      <td>570</td>\n",
              "      <td>2329</td>\n",
              "      <td>3441</td>\n",
              "      <td>317</td>\n",
              "    </tr>\n",
              "    <tr>\n",
              "      <th>AU</th>\n",
              "      <td>914</td>\n",
              "      <td>744</td>\n",
              "      <td>1604</td>\n",
              "      <td>1279</td>\n",
              "      <td>1731</td>\n",
              "      <td>897</td>\n",
              "      <td>1696</td>\n",
              "      <td>863</td>\n",
              "      <td>539</td>\n",
              "      <td>1477</td>\n",
              "      <td>2199</td>\n",
              "      <td>132</td>\n",
              "    </tr>\n",
              "    <tr>\n",
              "      <th>CA</th>\n",
              "      <td>2245</td>\n",
              "      <td>1944</td>\n",
              "      <td>2691</td>\n",
              "      <td>1852</td>\n",
              "      <td>3154</td>\n",
              "      <td>1956</td>\n",
              "      <td>3373</td>\n",
              "      <td>2153</td>\n",
              "      <td>749</td>\n",
              "      <td>2798</td>\n",
              "      <td>3473</td>\n",
              "      <td>360</td>\n",
              "    </tr>\n",
              "    <tr>\n",
              "      <th>DE</th>\n",
              "      <td>394</td>\n",
              "      <td>365</td>\n",
              "      <td>889</td>\n",
              "      <td>462</td>\n",
              "      <td>529</td>\n",
              "      <td>390</td>\n",
              "      <td>1072</td>\n",
              "      <td>499</td>\n",
              "      <td>361</td>\n",
              "      <td>481</td>\n",
              "      <td>1366</td>\n",
              "      <td>47</td>\n",
              "    </tr>\n",
              "    <tr>\n",
              "      <th>FR</th>\n",
              "      <td>280</td>\n",
              "      <td>287</td>\n",
              "      <td>490</td>\n",
              "      <td>414</td>\n",
              "      <td>455</td>\n",
              "      <td>239</td>\n",
              "      <td>811</td>\n",
              "      <td>295</td>\n",
              "      <td>172</td>\n",
              "      <td>281</td>\n",
              "      <td>1096</td>\n",
              "      <td>29</td>\n",
              "    </tr>\n",
              "    <tr>\n",
              "      <th>GB</th>\n",
              "      <td>4491</td>\n",
              "      <td>4801</td>\n",
              "      <td>4803</td>\n",
              "      <td>4230</td>\n",
              "      <td>10783</td>\n",
              "      <td>3003</td>\n",
              "      <td>7157</td>\n",
              "      <td>5054</td>\n",
              "      <td>2287</td>\n",
              "      <td>5892</td>\n",
              "      <td>5606</td>\n",
              "      <td>3074</td>\n",
              "    </tr>\n",
              "    <tr>\n",
              "      <th>IT</th>\n",
              "      <td>259</td>\n",
              "      <td>295</td>\n",
              "      <td>604</td>\n",
              "      <td>468</td>\n",
              "      <td>330</td>\n",
              "      <td>311</td>\n",
              "      <td>590</td>\n",
              "      <td>267</td>\n",
              "      <td>220</td>\n",
              "      <td>296</td>\n",
              "      <td>950</td>\n",
              "      <td>38</td>\n",
              "    </tr>\n",
              "    <tr>\n",
              "      <th>N,0\"</th>\n",
              "      <td>2</td>\n",
              "      <td>0</td>\n",
              "      <td>3</td>\n",
              "      <td>4</td>\n",
              "      <td>888</td>\n",
              "      <td>3</td>\n",
              "      <td>5</td>\n",
              "      <td>2388</td>\n",
              "      <td>1</td>\n",
              "      <td>495</td>\n",
              "      <td>7</td>\n",
              "      <td>1</td>\n",
              "    </tr>\n",
              "    <tr>\n",
              "      <th>NL</th>\n",
              "      <td>252</td>\n",
              "      <td>344</td>\n",
              "      <td>589</td>\n",
              "      <td>484</td>\n",
              "      <td>388</td>\n",
              "      <td>333</td>\n",
              "      <td>717</td>\n",
              "      <td>348</td>\n",
              "      <td>183</td>\n",
              "      <td>359</td>\n",
              "      <td>1090</td>\n",
              "      <td>40</td>\n",
              "    </tr>\n",
              "    <tr>\n",
              "      <th>US</th>\n",
              "      <td>41315</td>\n",
              "      <td>41951</td>\n",
              "      <td>39796</td>\n",
              "      <td>30527</td>\n",
              "      <td>100008</td>\n",
              "      <td>37420</td>\n",
              "      <td>45028</td>\n",
              "      <td>82755</td>\n",
              "      <td>15377</td>\n",
              "      <td>59699</td>\n",
              "      <td>39469</td>\n",
              "      <td>16847</td>\n",
              "    </tr>\n",
              "  </tbody>\n",
              "</table>\n",
              "</div>"
            ],
            "text/plain": [
              "main_category  Other    Art  Design  ...  Publishing  Technology  Theater\n",
              "country                              ...                                 \n",
              "Other           1831   1397    2473  ...        2329        3441      317\n",
              "AU               914    744    1604  ...        1477        2199      132\n",
              "CA              2245   1944    2691  ...        2798        3473      360\n",
              "DE               394    365     889  ...         481        1366       47\n",
              "FR               280    287     490  ...         281        1096       29\n",
              "GB              4491   4801    4803  ...        5892        5606     3074\n",
              "IT               259    295     604  ...         296         950       38\n",
              "N,0\"               2      0       3  ...         495           7        1\n",
              "NL               252    344     589  ...         359        1090       40\n",
              "US             41315  41951   39796  ...       59699       39469    16847\n",
              "\n",
              "[10 rows x 12 columns]"
            ]
          },
          "metadata": {
            "tags": []
          },
          "execution_count": 80
        }
      ]
    },
    {
      "cell_type": "code",
      "metadata": {
        "colab": {
          "base_uri": "https://localhost:8080/"
        },
        "id": "yMMgNisQpYvV",
        "outputId": "ab3b920a-dc03-41e3-8558-8f3b06214d17"
      },
      "source": [
        "stats.chi2_contingency(test_crosstab)"
      ],
      "execution_count": 81,
      "outputs": [
        {
          "output_type": "execute_result",
          "data": {
            "text/plain": [
              "(31096.009521422,\n",
              " 0.0,\n",
              " 99,\n",
              " array([[ 1847.12895584,  1852.28128831,  1916.73874413,  1464.47055356,\n",
              "          4308.91340825,  1628.52792596,  2247.09208854,  3505.78914339,\n",
              "           726.97634433,  2633.26829022,  2085.69971569,   742.11354179],\n",
              "        [ 1041.64189485,  1044.54742309,  1080.89658334,   825.85131782,\n",
              "          2429.90329024,   918.36734476,  1267.19103915,  1977.00157031,\n",
              "           409.96001629,  1484.96539063,  1176.17787164,   418.49625789],\n",
              "        [ 1979.52663611,  1985.04827516,  2054.12588356,  1569.44021663,\n",
              "          4617.76576961,  1745.25681973,  2408.15814673,  3757.07552416,\n",
              "           779.08422846,  2822.01451287,  2235.19756382,   795.30642316],\n",
              "        [  507.31475589,   508.7298462 ,   526.43311395,   402.21746243,\n",
              "          1183.44490619,   447.27588976,   617.16480095,   962.86648415,\n",
              "           199.66436317,   723.22825952,   572.83831688,   203.82180091],\n",
              "        [  358.85765884,   359.85864686,   372.38135223,   284.51531368,\n",
              "           837.12973743,   316.38815309,   436.56194308,   681.09986603,\n",
              "           141.23595872,   511.58772143,   405.2068561 ,   144.1767925 ],\n",
              "        [ 4527.79344714,  4540.42315397,  4698.42514141,  3589.79818653,\n",
              "         10562.26736768,  3991.9454721 ,  5508.20710239,  8593.6009288 ,\n",
              "          1782.00808216,  6454.82540421,  5112.59242381,  1819.1132898 ],\n",
              "        [  342.50221594,   343.45758253,   355.40954797,   271.54812781,\n",
              "           798.97637138,   301.96831769,   416.66501806,   650.05778099,\n",
              "           134.79893111,   488.27139097,   386.7389833 ,   137.60573226],\n",
              "        [  281.00279039,   281.78661211,   291.59249214,   222.7891619 ,\n",
              "           655.51280945,   247.74712668,   341.84897873,   533.33392273,\n",
              "           110.59454223,   400.59776826,   317.29643898,   112.89735639],\n",
              "        [  379.43147388,   380.48984996,   393.73049966,   300.82697737,\n",
              "           885.12356441,   334.52713155,   461.59065419,   720.14828071,\n",
              "           149.33321517,   540.91776609,   428.43793591,   152.4426511 ],\n",
              "        [40717.80017112, 40831.37732182, 42252.26664161, 32282.54268228,\n",
              "         94984.96277536, 35898.99581869, 49534.52022819, 77281.02649873,\n",
              "         16025.34431835, 58047.32349579, 45976.81389386, 16359.0261542 ]]))"
            ]
          },
          "metadata": {
            "tags": []
          },
          "execution_count": 81
        }
      ]
    },
    {
      "cell_type": "markdown",
      "metadata": {
        "id": "a6c2azZvpYvW"
      },
      "source": [
        "Two sampled t-test Hypothesis: "
      ]
    },
    {
      "cell_type": "code",
      "metadata": {
        "id": "wX9FxbEUpYvW"
      },
      "source": [
        "from scipy.stats import ttest_ind"
      ],
      "execution_count": 82,
      "outputs": []
    },
    {
      "cell_type": "code",
      "metadata": {
        "colab": {
          "base_uri": "https://localhost:8080/"
        },
        "id": "kkjEI-3OpYvW",
        "outputId": "c2566e73-87fb-4c6f-a113-3f27c9312967"
      },
      "source": [
        "scipy.stats.ttest_ind(ks['state_lump'] == 'failed', ks['state_lump'] == 'successful', equal_var=False)"
      ],
      "execution_count": 83,
      "outputs": [
        {
          "output_type": "execute_result",
          "data": {
            "text/plain": [
              "Ttest_indResult(statistic=368.11340576261455, pvalue=0.0)"
            ]
          },
          "metadata": {
            "tags": []
          },
          "execution_count": 83
        }
      ]
    },
    {
      "cell_type": "code",
      "metadata": {
        "id": "tw16BY46pYvX"
      },
      "source": [
        "from statsmodels.stats.multicomp import pairwise_tukeyhsd\n",
        "from statsmodels.stats.multicomp import MultiComparison"
      ],
      "execution_count": 84,
      "outputs": []
    },
    {
      "cell_type": "code",
      "metadata": {
        "colab": {
          "base_uri": "https://localhost:8080/"
        },
        "id": "IydcRUj4pYvX",
        "outputId": "3c463fb7-ff38-47cb-ffea-1c124b87fb04"
      },
      "source": [
        "ks.loc[:,'pledged'].describe()"
      ],
      "execution_count": 85,
      "outputs": [
        {
          "output_type": "execute_result",
          "data": {
            "text/plain": [
              "count     702411\n",
              "unique    112634\n",
              "top            0\n",
              "freq       52804\n",
              "Name: pledged, dtype: object"
            ]
          },
          "metadata": {
            "tags": []
          },
          "execution_count": 85
        }
      ]
    },
    {
      "cell_type": "markdown",
      "metadata": {
        "id": "DzPtwDwMpYvZ"
      },
      "source": [
        "test the mean of pledge difference for main categories or countries. pd.to_numeric(df4['Sales']).groupby(df4['Company'])"
      ]
    },
    {
      "cell_type": "code",
      "metadata": {
        "colab": {
          "base_uri": "https://localhost:8080/"
        },
        "id": "kF7QmDAYpYvZ",
        "outputId": "09aa6100-7ddb-46fb-b83d-a76687a1d70a"
      },
      "source": [
        "# Try anova test longevity and pledged values.\n",
        "print(list(ks_dummy))"
      ],
      "execution_count": 86,
      "outputs": [
        {
          "output_type": "stream",
          "text": [
            "['ID', 'name', 'category', 'deadline', 'goal', 'launched', 'pledged', 'state', 'backers', 'usd.pledged', 'launched_year', 'launched_month', 'launched_day', 'main_category_Art', 'main_category_Design', 'main_category_Fashion', 'main_category_Film & Video', 'main_category_Food', 'main_category_Games', 'main_category_Music', 'main_category_Photography', 'main_category_Publishing', 'main_category_Technology', 'main_category_Theater', 'state_lump_successful', 'currency_AUD', 'currency_CAD', 'currency_CHF', 'currency_DKK', 'currency_EUR', 'currency_GBP', 'currency_MXN', 'currency_NOK', 'currency_NZD', 'currency_SEK', 'currency_USD', 'country_AU', 'country_CA', 'country_DE', 'country_FR', 'country_GB', 'country_IT', 'country_N,0\"', 'country_NL', 'country_US', 'longevity']\n"
          ],
          "name": "stdout"
        }
      ]
    },
    {
      "cell_type": "code",
      "metadata": {
        "id": "NUC0n0aMpYvZ"
      },
      "source": [
        "ks7 = ks_dummy[['pledged', 'backers', 'longevity', 'goal']]\n",
        "ks7 = pd.DataFrame(ks7)\n",
        "ks7['backers'] = pd.to_numeric(ks7[ 'backers'] , errors='coerce')\n",
        "ks7['pledged'] = pd.to_numeric(ks7['pledged'] , errors='coerce')\n",
        "ks7['goal'] = pd.to_numeric(ks7[ 'goal'] , errors='coerce')\n",
        "\n"
      ],
      "execution_count": 87,
      "outputs": []
    },
    {
      "cell_type": "code",
      "metadata": {
        "colab": {
          "base_uri": "https://localhost:8080/",
          "height": 286
        },
        "id": "xaypP7w7pYva",
        "outputId": "d77e5b58-edfc-40b0-caed-fc61c845a184"
      },
      "source": [
        "sns.heatmap(ks7.corr(), annot=True)\n"
      ],
      "execution_count": 89,
      "outputs": [
        {
          "output_type": "execute_result",
          "data": {
            "text/plain": [
              "<matplotlib.axes._subplots.AxesSubplot at 0x7fa196dc6d30>"
            ]
          },
          "metadata": {
            "tags": []
          },
          "execution_count": 89
        },
        {
          "output_type": "display_data",
          "data": {
            "image/png": "[encoded data removed]",
            "text/plain": [
              "<Figure size 432x288 with 2 Axes>"
            ]
          },
          "metadata": {
            "tags": [],
            "needs_background": "light"
          }
        }
      ]
    },
    {
      "cell_type": "markdown",
      "metadata": {
        "id": "hvE1y8chpYva"
      },
      "source": [
        "# Preprocessing and Modeling with sklearn"
      ]
    },
    {
      "cell_type": "code",
      "metadata": {
        "id": "-_ODa3tgpYvb"
      },
      "source": [
        "from sklearn import svm\n",
        "from sklearn.feature_selection import SelectKBest, f_classif\n",
        "from sklearn.linear_model import LogisticRegression\n",
        "from sklearn.feature_selection import SelectFromModel\n",
        "from sklearn import preprocessing\n",
        "from sklearn.preprocessing import StandardScaler\n",
        "from sklearn.model_selection import train_test_split,GridSearchCV\n",
        "from sklearn.metrics import confusion_matrix, accuracy_score,classification_report\n",
        "from sklearn.tree import DecisionTreeClassifier"
      ],
      "execution_count": 90,
      "outputs": []
    },
    {
      "cell_type": "code",
      "metadata": {
        "colab": {
          "base_uri": "https://localhost:8080/"
        },
        "id": "XSuzZePYpYvb",
        "outputId": "cd77ffd4-3b87-4162-c054-359ae6f27b37"
      },
      "source": [
        "ks.isnull().sum()/ks.shape[0]\n",
        "#ks = ks.dropna(axis=0, subset=['name', 'category', 'main_category', 'currency', ])"
      ],
      "execution_count": 91,
      "outputs": [
        {
          "output_type": "execute_result",
          "data": {
            "text/plain": [
              "ID                0.000000\n",
              "name              0.000011\n",
              "category          0.000007\n",
              "main_category     0.000000\n",
              "currency          0.000000\n",
              "deadline          0.000900\n",
              "goal              0.000000\n",
              "launched          0.000830\n",
              "pledged           0.000000\n",
              "state             0.000000\n",
              "backers           0.000000\n",
              "country           0.000000\n",
              "usd.pledged       0.010801\n",
              "state_lump        0.000000\n",
              "launched_year     0.000830\n",
              "launched_month    0.000830\n",
              "launched_day      0.000830\n",
              "dtype: float64"
            ]
          },
          "metadata": {
            "tags": []
          },
          "execution_count": 91
        }
      ]
    },
    {
      "cell_type": "code",
      "metadata": {
        "id": "iF2N031SpYvc"
      },
      "source": [
        "# 1% of pledged data is NULL "
      ],
      "execution_count": 92,
      "outputs": []
    },
    {
      "cell_type": "code",
      "metadata": {
        "colab": {
          "base_uri": "https://localhost:8080/"
        },
        "id": "zkJT6kHTpYvc",
        "outputId": "5b0e5e7b-91f1-4317-d6b5-d5a77b08556f"
      },
      "source": [
        "ks_dummy.isna().sum()"
      ],
      "execution_count": 93,
      "outputs": [
        {
          "output_type": "execute_result",
          "data": {
            "text/plain": [
              "ID                               0\n",
              "name                             8\n",
              "category                         5\n",
              "deadline                       632\n",
              "goal                             0\n",
              "launched                       583\n",
              "pledged                          0\n",
              "state                            0\n",
              "backers                          0\n",
              "usd.pledged                   7587\n",
              "launched_year                  583\n",
              "launched_month                 583\n",
              "launched_day                   583\n",
              "main_category_Art                0\n",
              "main_category_Design             0\n",
              "main_category_Fashion            0\n",
              "main_category_Film & Video       0\n",
              "main_category_Food               0\n",
              "main_category_Games              0\n",
              "main_category_Music              0\n",
              "main_category_Photography        0\n",
              "main_category_Publishing         0\n",
              "main_category_Technology         0\n",
              "main_category_Theater            0\n",
              "state_lump_successful            0\n",
              "currency_AUD                     0\n",
              "currency_CAD                     0\n",
              "currency_CHF                     0\n",
              "currency_DKK                     0\n",
              "currency_EUR                     0\n",
              "currency_GBP                     0\n",
              "currency_MXN                     0\n",
              "currency_NOK                     0\n",
              "currency_NZD                     0\n",
              "currency_SEK                     0\n",
              "currency_USD                     0\n",
              "country_AU                       0\n",
              "country_CA                       0\n",
              "country_DE                       0\n",
              "country_FR                       0\n",
              "country_GB                       0\n",
              "country_IT                       0\n",
              "country_N,0\"                     0\n",
              "country_NL                       0\n",
              "country_US                       0\n",
              "longevity                      632\n",
              "dtype: int64"
            ]
          },
          "metadata": {
            "tags": []
          },
          "execution_count": 93
        }
      ]
    },
    {
      "cell_type": "markdown",
      "metadata": {
        "id": "GjxSECMVpYvc"
      },
      "source": [
        "# Univariate Feature Selection Method with SelectKBest"
      ]
    },
    {
      "cell_type": "code",
      "metadata": {
        "colab": {
          "base_uri": "https://localhost:8080/"
        },
        "id": "BsiOabL7pYvd",
        "outputId": "6158cf30-691a-4db1-8649-61f5848a91e6"
      },
      "source": [
        "print(list(ks_dummy))"
      ],
      "execution_count": 94,
      "outputs": [
        {
          "output_type": "stream",
          "text": [
            "['ID', 'name', 'category', 'deadline', 'goal', 'launched', 'pledged', 'state', 'backers', 'usd.pledged', 'launched_year', 'launched_month', 'launched_day', 'main_category_Art', 'main_category_Design', 'main_category_Fashion', 'main_category_Film & Video', 'main_category_Food', 'main_category_Games', 'main_category_Music', 'main_category_Photography', 'main_category_Publishing', 'main_category_Technology', 'main_category_Theater', 'state_lump_successful', 'currency_AUD', 'currency_CAD', 'currency_CHF', 'currency_DKK', 'currency_EUR', 'currency_GBP', 'currency_MXN', 'currency_NOK', 'currency_NZD', 'currency_SEK', 'currency_USD', 'country_AU', 'country_CA', 'country_DE', 'country_FR', 'country_GB', 'country_IT', 'country_N,0\"', 'country_NL', 'country_US', 'longevity']\n"
          ],
          "name": "stdout"
        }
      ]
    },
    {
      "cell_type": "code",
      "metadata": {
        "id": "kWHIuZmUpYvd"
      },
      "source": [
        "remove_col = ['ID', 'name', 'category', 'deadline','launched','state']\n",
        "ks_dummy2 = ks_dummy.drop(remove_col, axis=1) # removed the columns not among the predictors. \n"
      ],
      "execution_count": 95,
      "outputs": []
    },
    {
      "cell_type": "code",
      "metadata": {
        "colab": {
          "base_uri": "https://localhost:8080/"
        },
        "id": "0JBm0XTGpYvd",
        "outputId": "c85b80bc-5601-4647-929c-c63a963944eb"
      },
      "source": [
        "print(list(ks_dummy2))"
      ],
      "execution_count": 96,
      "outputs": [
        {
          "output_type": "stream",
          "text": [
            "['goal', 'pledged', 'backers', 'usd.pledged', 'launched_year', 'launched_month', 'launched_day', 'main_category_Art', 'main_category_Design', 'main_category_Fashion', 'main_category_Film & Video', 'main_category_Food', 'main_category_Games', 'main_category_Music', 'main_category_Photography', 'main_category_Publishing', 'main_category_Technology', 'main_category_Theater', 'state_lump_successful', 'currency_AUD', 'currency_CAD', 'currency_CHF', 'currency_DKK', 'currency_EUR', 'currency_GBP', 'currency_MXN', 'currency_NOK', 'currency_NZD', 'currency_SEK', 'currency_USD', 'country_AU', 'country_CA', 'country_DE', 'country_FR', 'country_GB', 'country_IT', 'country_N,0\"', 'country_NL', 'country_US', 'longevity']\n"
          ],
          "name": "stdout"
        }
      ]
    },
    {
      "cell_type": "code",
      "metadata": {
        "colab": {
          "base_uri": "https://localhost:8080/",
          "height": 241
        },
        "id": "SrYqGEZ-pYve",
        "outputId": "db99fc2a-1f91-4937-f1d0-81b214cf6a1b"
      },
      "source": [
        "ks_dummy2['pledged'] = pd.to_numeric(ks_dummy2['pledged'], errors='coerce') # converting column values to float\n",
        "ks_dummy2['backers'] = pd.to_numeric(ks_dummy2['backers'] , errors='coerce')\n",
        "ks_dummy2['goal'] = pd.to_numeric(ks_dummy2['goal'] , errors='coerce')\n",
        "ks_dummy2['usd.pledged'] = pd.to_numeric(ks_dummy2['usd.pledged'] , errors='coerce')\n",
        "ks_dummy2 = ks_dummy2.dropna() # SelectKBest can not process NaN values\n",
        "ks_dummy2.head()"
      ],
      "execution_count": 107,
      "outputs": [
        {
          "output_type": "execute_result",
          "data": {
            "text/html": [
              "<div>\n",
              "<style scoped>\n",
              "    .dataframe tbody tr th:only-of-type {\n",
              "        vertical-align: middle;\n",
              "    }\n",
              "\n",
              "    .dataframe tbody tr th {\n",
              "        vertical-align: top;\n",
              "    }\n",
              "\n",
              "    .dataframe thead th {\n",
              "        text-align: right;\n",
              "    }\n",
              "</style>\n",
              "<table border=\"1\" class=\"dataframe\">\n",
              "  <thead>\n",
              "    <tr style=\"text-align: right;\">\n",
              "      <th></th>\n",
              "      <th>goal</th>\n",
              "      <th>pledged</th>\n",
              "      <th>backers</th>\n",
              "      <th>usd.pledged</th>\n",
              "      <th>launched_year</th>\n",
              "      <th>launched_month</th>\n",
              "      <th>launched_day</th>\n",
              "      <th>main_category_Art</th>\n",
              "      <th>main_category_Design</th>\n",
              "      <th>main_category_Fashion</th>\n",
              "      <th>main_category_Film &amp; Video</th>\n",
              "      <th>main_category_Food</th>\n",
              "      <th>main_category_Games</th>\n",
              "      <th>main_category_Music</th>\n",
              "      <th>main_category_Photography</th>\n",
              "      <th>main_category_Publishing</th>\n",
              "      <th>main_category_Technology</th>\n",
              "      <th>main_category_Theater</th>\n",
              "      <th>state_lump_successful</th>\n",
              "      <th>currency_AUD</th>\n",
              "      <th>currency_CAD</th>\n",
              "      <th>currency_CHF</th>\n",
              "      <th>currency_DKK</th>\n",
              "      <th>currency_EUR</th>\n",
              "      <th>currency_GBP</th>\n",
              "      <th>currency_MXN</th>\n",
              "      <th>currency_NOK</th>\n",
              "      <th>currency_NZD</th>\n",
              "      <th>currency_SEK</th>\n",
              "      <th>currency_USD</th>\n",
              "      <th>country_AU</th>\n",
              "      <th>country_CA</th>\n",
              "      <th>country_DE</th>\n",
              "      <th>country_FR</th>\n",
              "      <th>country_GB</th>\n",
              "      <th>country_IT</th>\n",
              "      <th>country_N,0\"</th>\n",
              "      <th>country_NL</th>\n",
              "      <th>country_US</th>\n",
              "      <th>longevity</th>\n",
              "    </tr>\n",
              "  </thead>\n",
              "  <tbody>\n",
              "    <tr>\n",
              "      <th>0</th>\n",
              "      <td>1000.0</td>\n",
              "      <td>0.0</td>\n",
              "      <td>0.0</td>\n",
              "      <td>0.0</td>\n",
              "      <td>2015.0</td>\n",
              "      <td>8.0</td>\n",
              "      <td>11.0</td>\n",
              "      <td>0</td>\n",
              "      <td>0</td>\n",
              "      <td>0</td>\n",
              "      <td>0</td>\n",
              "      <td>0</td>\n",
              "      <td>0</td>\n",
              "      <td>0</td>\n",
              "      <td>0</td>\n",
              "      <td>1</td>\n",
              "      <td>0</td>\n",
              "      <td>0</td>\n",
              "      <td>0</td>\n",
              "      <td>0</td>\n",
              "      <td>0</td>\n",
              "      <td>0</td>\n",
              "      <td>0</td>\n",
              "      <td>0</td>\n",
              "      <td>1</td>\n",
              "      <td>0</td>\n",
              "      <td>0</td>\n",
              "      <td>0</td>\n",
              "      <td>0</td>\n",
              "      <td>0</td>\n",
              "      <td>0</td>\n",
              "      <td>0</td>\n",
              "      <td>0</td>\n",
              "      <td>0</td>\n",
              "      <td>1</td>\n",
              "      <td>0</td>\n",
              "      <td>0</td>\n",
              "      <td>0</td>\n",
              "      <td>0</td>\n",
              "      <td>59.0</td>\n",
              "    </tr>\n",
              "    <tr>\n",
              "      <th>1</th>\n",
              "      <td>30000.0</td>\n",
              "      <td>2421.0</td>\n",
              "      <td>15.0</td>\n",
              "      <td>100.0</td>\n",
              "      <td>2017.0</td>\n",
              "      <td>9.0</td>\n",
              "      <td>2.0</td>\n",
              "      <td>0</td>\n",
              "      <td>0</td>\n",
              "      <td>0</td>\n",
              "      <td>1</td>\n",
              "      <td>0</td>\n",
              "      <td>0</td>\n",
              "      <td>0</td>\n",
              "      <td>0</td>\n",
              "      <td>0</td>\n",
              "      <td>0</td>\n",
              "      <td>0</td>\n",
              "      <td>0</td>\n",
              "      <td>0</td>\n",
              "      <td>0</td>\n",
              "      <td>0</td>\n",
              "      <td>0</td>\n",
              "      <td>0</td>\n",
              "      <td>0</td>\n",
              "      <td>0</td>\n",
              "      <td>0</td>\n",
              "      <td>0</td>\n",
              "      <td>0</td>\n",
              "      <td>1</td>\n",
              "      <td>0</td>\n",
              "      <td>0</td>\n",
              "      <td>0</td>\n",
              "      <td>0</td>\n",
              "      <td>0</td>\n",
              "      <td>0</td>\n",
              "      <td>0</td>\n",
              "      <td>0</td>\n",
              "      <td>1</td>\n",
              "      <td>60.0</td>\n",
              "    </tr>\n",
              "    <tr>\n",
              "      <th>2</th>\n",
              "      <td>45000.0</td>\n",
              "      <td>220.0</td>\n",
              "      <td>3.0</td>\n",
              "      <td>220.0</td>\n",
              "      <td>2013.0</td>\n",
              "      <td>1.0</td>\n",
              "      <td>12.0</td>\n",
              "      <td>0</td>\n",
              "      <td>0</td>\n",
              "      <td>0</td>\n",
              "      <td>1</td>\n",
              "      <td>0</td>\n",
              "      <td>0</td>\n",
              "      <td>0</td>\n",
              "      <td>0</td>\n",
              "      <td>0</td>\n",
              "      <td>0</td>\n",
              "      <td>0</td>\n",
              "      <td>0</td>\n",
              "      <td>0</td>\n",
              "      <td>0</td>\n",
              "      <td>0</td>\n",
              "      <td>0</td>\n",
              "      <td>0</td>\n",
              "      <td>0</td>\n",
              "      <td>0</td>\n",
              "      <td>0</td>\n",
              "      <td>0</td>\n",
              "      <td>0</td>\n",
              "      <td>1</td>\n",
              "      <td>0</td>\n",
              "      <td>0</td>\n",
              "      <td>0</td>\n",
              "      <td>0</td>\n",
              "      <td>0</td>\n",
              "      <td>0</td>\n",
              "      <td>0</td>\n",
              "      <td>0</td>\n",
              "      <td>1</td>\n",
              "      <td>45.0</td>\n",
              "    </tr>\n",
              "    <tr>\n",
              "      <th>3</th>\n",
              "      <td>5000.0</td>\n",
              "      <td>1.0</td>\n",
              "      <td>1.0</td>\n",
              "      <td>1.0</td>\n",
              "      <td>2012.0</td>\n",
              "      <td>3.0</td>\n",
              "      <td>17.0</td>\n",
              "      <td>0</td>\n",
              "      <td>0</td>\n",
              "      <td>0</td>\n",
              "      <td>0</td>\n",
              "      <td>0</td>\n",
              "      <td>0</td>\n",
              "      <td>1</td>\n",
              "      <td>0</td>\n",
              "      <td>0</td>\n",
              "      <td>0</td>\n",
              "      <td>0</td>\n",
              "      <td>0</td>\n",
              "      <td>0</td>\n",
              "      <td>0</td>\n",
              "      <td>0</td>\n",
              "      <td>0</td>\n",
              "      <td>0</td>\n",
              "      <td>0</td>\n",
              "      <td>0</td>\n",
              "      <td>0</td>\n",
              "      <td>0</td>\n",
              "      <td>0</td>\n",
              "      <td>1</td>\n",
              "      <td>0</td>\n",
              "      <td>0</td>\n",
              "      <td>0</td>\n",
              "      <td>0</td>\n",
              "      <td>0</td>\n",
              "      <td>0</td>\n",
              "      <td>0</td>\n",
              "      <td>0</td>\n",
              "      <td>1</td>\n",
              "      <td>30.0</td>\n",
              "    </tr>\n",
              "    <tr>\n",
              "      <th>4</th>\n",
              "      <td>19500.0</td>\n",
              "      <td>1283.0</td>\n",
              "      <td>14.0</td>\n",
              "      <td>1283.0</td>\n",
              "      <td>2015.0</td>\n",
              "      <td>7.0</td>\n",
              "      <td>4.0</td>\n",
              "      <td>0</td>\n",
              "      <td>0</td>\n",
              "      <td>0</td>\n",
              "      <td>1</td>\n",
              "      <td>0</td>\n",
              "      <td>0</td>\n",
              "      <td>0</td>\n",
              "      <td>0</td>\n",
              "      <td>0</td>\n",
              "      <td>0</td>\n",
              "      <td>0</td>\n",
              "      <td>0</td>\n",
              "      <td>0</td>\n",
              "      <td>0</td>\n",
              "      <td>0</td>\n",
              "      <td>0</td>\n",
              "      <td>0</td>\n",
              "      <td>0</td>\n",
              "      <td>0</td>\n",
              "      <td>0</td>\n",
              "      <td>0</td>\n",
              "      <td>0</td>\n",
              "      <td>1</td>\n",
              "      <td>0</td>\n",
              "      <td>0</td>\n",
              "      <td>0</td>\n",
              "      <td>0</td>\n",
              "      <td>0</td>\n",
              "      <td>0</td>\n",
              "      <td>0</td>\n",
              "      <td>0</td>\n",
              "      <td>1</td>\n",
              "      <td>56.0</td>\n",
              "    </tr>\n",
              "  </tbody>\n",
              "</table>\n",
              "</div>"
            ],
            "text/plain": [
              "      goal  pledged  backers  ...  country_NL  country_US  longevity\n",
              "0   1000.0      0.0      0.0  ...           0           0       59.0\n",
              "1  30000.0   2421.0     15.0  ...           0           1       60.0\n",
              "2  45000.0    220.0      3.0  ...           0           1       45.0\n",
              "3   5000.0      1.0      1.0  ...           0           1       30.0\n",
              "4  19500.0   1283.0     14.0  ...           0           1       56.0\n",
              "\n",
              "[5 rows x 40 columns]"
            ]
          },
          "metadata": {
            "tags": []
          },
          "execution_count": 107
        }
      ]
    },
    {
      "cell_type": "code",
      "metadata": {
        "id": "J4FkUyHfpYve"
      },
      "source": [
        "drop_col= ['state_lump_successful']\n",
        "X = ks_dummy2.drop(drop_col, axis =1) # dropped the target column, the rest wil be our predictors. \n",
        "y = ks_dummy2['state_lump_successful'] # selected the target column that will be predicted"
      ],
      "execution_count": 98,
      "outputs": []
    },
    {
      "cell_type": "code",
      "metadata": {
        "id": "G0K1D1WQpYve"
      },
      "source": [
        "# instantiate SelectKBest to determine 20 best features\n",
        "best_features = SelectKBest(score_func = f_classif, k=20)\n",
        "fit = best_features.fit(X,y)\n",
        "df_scores = pd.DataFrame(fit.scores_)\n",
        "df_columns = pd.DataFrame(X.columns)"
      ],
      "execution_count": 99,
      "outputs": []
    },
    {
      "cell_type": "code",
      "metadata": {
        "colab": {
          "base_uri": "https://localhost:8080/"
        },
        "id": "3q9gLxTLpYvf",
        "outputId": "67a697e5-b83d-4532-bced-00af4d14bded"
      },
      "source": [
        "# concatenate dataframes\n",
        "feature_scores = pd.concat([df_columns, df_scores], axis = 1)\n",
        "feature_scores.columns = ['Feature_Name', 'Score'] \n",
        "print(feature_scores.nlargest(20, 'Score')) # print 20 best features"
      ],
      "execution_count": 100,
      "outputs": [
        {
          "output_type": "stream",
          "text": [
            "                Feature_Name         Score\n",
            "2                    backers  10853.523192\n",
            "13       main_category_Music   8368.781880\n",
            "1                    pledged   8238.745783\n",
            "4              launched_year   7782.534595\n",
            "16  main_category_Technology   7203.109865\n",
            "3                usd.pledged   6933.383438\n",
            "17     main_category_Theater   5657.835173\n",
            "28              currency_USD   3426.360573\n",
            "37                country_US   3426.360573\n",
            "22              currency_EUR   2654.952375\n",
            "9      main_category_Fashion   2542.629462\n",
            "11        main_category_Food   2500.433948\n",
            "19              currency_CAD    906.332939\n",
            "30                country_CA    906.332939\n",
            "34                country_IT    902.759043\n",
            "15  main_category_Publishing    789.669454\n",
            "18              currency_AUD    755.795418\n",
            "29                country_AU    755.795418\n",
            "7          main_category_Art    629.255956\n",
            "31                country_DE    605.974910\n"
          ],
          "name": "stdout"
        }
      ]
    },
    {
      "cell_type": "code",
      "metadata": {
        "id": "_ksZi7ZxpYvg"
      },
      "source": [
        "# Based on the features we can say; 'Number of backers', ' main category', 'pledged amount', 'launch time' and 'country' are the most important features of predictors.a"
      ],
      "execution_count": 101,
      "outputs": []
    },
    {
      "cell_type": "code",
      "metadata": {
        "id": "Eg_dMaKDpYvg"
      },
      "source": [
        "# export selected features to .csv\n",
        "df_univ_feat = feature_scores.nlargest(20,'Score')\n",
        "df_univ_feat.to_csv('feature_selection_UNIVARIATE.csv', index=False)"
      ],
      "execution_count": 102,
      "outputs": []
    },
    {
      "cell_type": "markdown",
      "metadata": {
        "id": "f2EZa5EfpYvg"
      },
      "source": [
        "# Feature Selection Using Feature Importance Method"
      ]
    },
    {
      "cell_type": "code",
      "metadata": {
        "id": "7nmC2x5SpYvh"
      },
      "source": [
        "from sklearn.ensemble import RandomForestClassifier"
      ],
      "execution_count": 103,
      "outputs": []
    },
    {
      "cell_type": "code",
      "metadata": {
        "colab": {
          "base_uri": "https://localhost:8080/"
        },
        "id": "0wsEpIfnpYvh",
        "outputId": "8b5e8bf3-0fee-4545-f0f7-c79938eb7a07"
      },
      "source": [
        "rf_model = RandomForestClassifier()\n",
        "rf_model.fit(X, y)"
      ],
      "execution_count": 104,
      "outputs": [
        {
          "output_type": "execute_result",
          "data": {
            "text/plain": [
              "RandomForestClassifier(bootstrap=True, ccp_alpha=0.0, class_weight=None,\n",
              "                       criterion='gini', max_depth=None, max_features='auto',\n",
              "                       max_leaf_nodes=None, max_samples=None,\n",
              "                       min_impurity_decrease=0.0, min_impurity_split=None,\n",
              "                       min_samples_leaf=1, min_samples_split=2,\n",
              "                       min_weight_fraction_leaf=0.0, n_estimators=100,\n",
              "                       n_jobs=None, oob_score=False, random_state=None,\n",
              "                       verbose=0, warm_start=False)"
            ]
          },
          "metadata": {
            "tags": []
          },
          "execution_count": 104
        }
      ]
    },
    {
      "cell_type": "code",
      "metadata": {
        "colab": {
          "base_uri": "https://localhost:8080/"
        },
        "id": "sX2DX2SJpYvi",
        "outputId": "504e964f-3576-46ab-c478-a15ce838039f"
      },
      "source": [
        "feat_importances = pd.Series(rf_model.feature_importances_, index=X.columns)\n",
        "# determine 20 most important features\n",
        "df_imp_feat = feat_importances.nlargest(20)\n",
        "print(rf_model.feature_importances_)"
      ],
      "execution_count": 105,
      "outputs": [
        {
          "output_type": "stream",
          "text": [
            "[2.48819676e-01 2.56657949e-01 2.30073834e-01 1.84492895e-01\n",
            " 1.39951921e-02 8.41254253e-03 9.79690233e-03 1.39211402e-03\n",
            " 3.21211477e-03 1.06632385e-03 1.17937384e-03 1.16155199e-03\n",
            " 2.98125466e-03 4.68630821e-03 3.87645285e-04 8.14131062e-04\n",
            " 4.42361970e-03 2.22984556e-03 2.50770368e-04 3.83962523e-04\n",
            " 7.45527955e-05 2.28138115e-04 7.70378894e-04 6.55174903e-04\n",
            " 1.72716029e-04 1.24713605e-04 1.18469917e-04 3.12852709e-04\n",
            " 1.19271261e-03 2.61928936e-04 3.70998008e-04 2.02245053e-04\n",
            " 1.65607643e-04 7.56306905e-04 1.82258007e-04 0.00000000e+00\n",
            " 1.74521919e-04 1.07824880e-03 1.67401686e-02]\n"
          ],
          "name": "stdout"
        }
      ]
    },
    {
      "cell_type": "code",
      "metadata": {
        "colab": {
          "base_uri": "https://localhost:8080/",
          "height": 622
        },
        "id": "Mt96V8FTpYvi",
        "outputId": "b00f9b6e-81ab-4fb5-fcda-15abec9912a3"
      },
      "source": [
        "# plot 20 most important features\n",
        "# feat_importances.nlargest(20).plot(kind='barh')\n",
        "df_imp_feat.plot(kind='barh')\n",
        "plt.show()\n",
        "print(df_imp_feat)"
      ],
      "execution_count": 106,
      "outputs": [
        {
          "output_type": "display_data",
          "data": {
            "image/png": "[encoded data removed]",
            "text/plain": [
              "<Figure size 432x288 with 1 Axes>"
            ]
          },
          "metadata": {
            "tags": [],
            "needs_background": "light"
          }
        },
        {
          "output_type": "stream",
          "text": [
            "pledged                       0.256658\n",
            "goal                          0.248820\n",
            "backers                       0.230074\n",
            "usd.pledged                   0.184493\n",
            "longevity                     0.016740\n",
            "launched_year                 0.013995\n",
            "launched_day                  0.009797\n",
            "launched_month                0.008413\n",
            "main_category_Music           0.004686\n",
            "main_category_Technology      0.004424\n",
            "main_category_Design          0.003212\n",
            "main_category_Games           0.002981\n",
            "main_category_Theater         0.002230\n",
            "main_category_Art             0.001392\n",
            "currency_USD                  0.001193\n",
            "main_category_Film & Video    0.001179\n",
            "main_category_Food            0.001162\n",
            "country_US                    0.001078\n",
            "main_category_Fashion         0.001066\n",
            "main_category_Publishing      0.000814\n",
            "dtype: float64\n"
          ],
          "name": "stdout"
        }
      ]
    },
    {
      "cell_type": "markdown",
      "metadata": {
        "id": "HpDOqd4GpYvi"
      },
      "source": [
        "# Logistic Regression model"
      ]
    },
    {
      "cell_type": "code",
      "metadata": {
        "id": "8nOr6g_UpYvj"
      },
      "source": [
        "# Based on the features we can say; 'Number of backers', ' main category', 'pledged amount', 'longevity' as duration of the campaign, 'launch time' and 'country' (US single most important country determines state of the project) are the most important features of predictors.\n",
        "logit_data = ks_dummy2[['state_lump_successful', 'pledged', 'backers', 'main_category_Art', 'main_category_Design', 'main_category_Fashion', 'main_category_Film & Video', 'main_category_Food', 'main_category_Games', 'main_category_Music', 'main_category_Photography', 'main_category_Publishing', 'main_category_Technology', 'main_category_Theater', 'country_US', 'launched_year', 'longevity']]\n"
      ],
      "execution_count": 108,
      "outputs": []
    },
    {
      "cell_type": "code",
      "metadata": {
        "id": "JTSD86CypYvj"
      },
      "source": [
        "# Spliting data\n",
        "train_X, test_X, train_y, test_y = train_test_split(logit_data.drop('state_lump_successful', axis=1), logit_data['state_lump_successful'], \n",
        "                                                    test_size=0.1, random_state=7)"
      ],
      "execution_count": 109,
      "outputs": []
    },
    {
      "cell_type": "code",
      "metadata": {
        "colab": {
          "base_uri": "https://localhost:8080/"
        },
        "id": "2xsHdR7PpYvj",
        "outputId": "025dd99b-140d-444b-8e04-540397d7ae1d"
      },
      "source": [
        "# Creating model\n",
        "LR = LogisticRegression()\n",
        "\n",
        "# Fitting model\n",
        "LR.fit(train_X, train_y)\n",
        "\n",
        "# Scoring\n",
        "print(\"Model's accuracy is {0}%\".format(round(LR.score(test_X, test_y)*100, 2)))"
      ],
      "execution_count": 110,
      "outputs": [
        {
          "output_type": "stream",
          "text": [
            "Model's accuracy is 78.13%\n"
          ],
          "name": "stdout"
        }
      ]
    },
    {
      "cell_type": "code",
      "metadata": {
        "colab": {
          "base_uri": "https://localhost:8080/"
        },
        "id": "igOnw0RBpYvk",
        "outputId": "cfc9b7e7-2c95-40be-ab6f-8d2d56041560"
      },
      "source": [
        "from_largest = np.argsort(LR.coef_)[0][::-1]\n",
        "positive_coef_inds = []\n",
        "for index in from_largest:\n",
        "    if LR.coef_[0][index] > 0:\n",
        "        positive_coef_inds.append(index)\n",
        "    else:\n",
        "        break\n",
        "print(train_X.iloc[:, positive_coef_inds].columns)"
      ],
      "execution_count": 111,
      "outputs": [
        {
          "output_type": "stream",
          "text": [
            "Index(['backers', 'main_category_Music', 'country_US', 'main_category_Theater',\n",
            "       'main_category_Art', 'main_category_Film & Video', 'pledged',\n",
            "       'main_category_Photography'],\n",
            "      dtype='object')\n"
          ],
          "name": "stdout"
        }
      ]
    },
    {
      "cell_type": "code",
      "metadata": {
        "id": "_uA5S3g3pYvk"
      },
      "source": [
        "## in our model , number of backers, main_category, country of origin, and pledged amount are the features had positive coefficients"
      ],
      "execution_count": 112,
      "outputs": []
    },
    {
      "cell_type": "code",
      "metadata": {
        "colab": {
          "base_uri": "https://localhost:8080/"
        },
        "id": "nqnK-tbnpYvk",
        "outputId": "f74ed08b-7c44-422c-bdf1-78e6398bd624"
      },
      "source": [
        "print(train_X.iloc[:, np.argmin(LR.coef_[0])].name)"
      ],
      "execution_count": 113,
      "outputs": [
        {
          "output_type": "stream",
          "text": [
            "longevity\n"
          ],
          "name": "stdout"
        }
      ]
    },
    {
      "cell_type": "code",
      "metadata": {
        "id": "1EfBKH4GpYvl"
      },
      "source": [
        "# longevity as duration of campaign has the lowest coefficient so it contributed most for a project to fail. "
      ],
      "execution_count": 114,
      "outputs": []
    },
    {
      "cell_type": "code",
      "metadata": {
        "id": "S3e_3cJwpYvl"
      },
      "source": [
        "from keras.models import Sequential\n",
        "from keras.layers.core import Dense, Dropout, Activation, Flatten\n",
        "from keras.layers.noise import GaussianNoise\n",
        "from keras.layers.normalization import BatchNormalization\n",
        "from keras.layers.advanced_activations import PReLU\n",
        "from keras.utils import np_utils\n",
        "from sklearn.preprocessing import MinMaxScaler"
      ],
      "execution_count": 115,
      "outputs": []
    },
    {
      "cell_type": "markdown",
      "metadata": {
        "id": "aHTnAB4xpYvn"
      },
      "source": [
        "# Artificial neural network, ANN Model. "
      ]
    },
    {
      "cell_type": "code",
      "metadata": {
        "id": "7tuoZVeHpYvo"
      },
      "source": [
        "drop_col= ['state_lump_successful']\n",
        "X = logit_data.drop(drop_col, axis =1) # dropped the target column, the rest wil be our predictors. \n",
        "y = logit_data['state_lump_successful'] # selected the target column that will be predicted"
      ],
      "execution_count": 116,
      "outputs": []
    },
    {
      "cell_type": "code",
      "metadata": {
        "id": "jz8xmQgrpYvp"
      },
      "source": [
        "def ANN_training(X,y):\n",
        "    \n",
        "    X_train, X_test, y_train, y_test = train_test_split(X, y, test_size = 0.20, random_state = 0)\n",
        "    \n",
        "    scaler = MinMaxScaler((-1,1))\n",
        "    X_train_scaled = scaler.fit_transform(X_train)\n",
        "    X_test_scaled = scaler.transform(X_test)\n",
        "    \n",
        "    clf = Sequential()\n",
        "    clf.add(Dense(input_shape = (X.shape[1],), units = 10, activation = 'relu'))\n",
        "    clf.add(Dense(units = 6, activation = 'relu'))\n",
        "    clf.add(Dense(units = 1, activation = 'sigmoid'))\n",
        "    clf.compile(optimizer = \"adam\", loss = \"binary_crossentropy\", metrics = ['accuracy'])\n",
        "    clf.fit(X_train, y_train, batch_size = 100, epochs = 10)\n",
        "\n",
        "    # Predicting results\n",
        "    y_pred = clf.predict(X_test, batch_size = 10)\n",
        "    y_pred = (y_pred > 0.5)\n",
        "\n",
        "    cm = confusion_matrix(y_test, y_pred)\n",
        "    print(cm)"
      ],
      "execution_count": 119,
      "outputs": []
    },
    {
      "cell_type": "code",
      "metadata": {
        "colab": {
          "base_uri": "https://localhost:8080/"
        },
        "id": "xncWRa5GpYvp",
        "outputId": "88b9a498-569f-4741-e25c-29348f142df2"
      },
      "source": [
        "ANN_training(X,y)"
      ],
      "execution_count": 120,
      "outputs": [
        {
          "output_type": "stream",
          "text": [
            "Epoch 1/10\n",
            "5554/5554 [==============================] - 5s 962us/step - loss: 6.1215 - accuracy: 0.7969\n",
            "Epoch 2/10\n",
            "5554/5554 [==============================] - 5s 951us/step - loss: 1.6782 - accuracy: 0.8144\n",
            "Epoch 3/10\n",
            "5554/5554 [==============================] - 5s 938us/step - loss: 2.0784 - accuracy: 0.8014\n",
            "Epoch 4/10\n",
            "5554/5554 [==============================] - 5s 940us/step - loss: 0.6012 - accuracy: 0.8212\n",
            "Epoch 5/10\n",
            "5554/5554 [==============================] - 5s 956us/step - loss: 0.3587 - accuracy: 0.8423\n",
            "Epoch 6/10\n",
            "5554/5554 [==============================] - 5s 956us/step - loss: 0.3549 - accuracy: 0.8451\n",
            "Epoch 7/10\n",
            "5554/5554 [==============================] - 5s 952us/step - loss: 0.3530 - accuracy: 0.8472\n",
            "Epoch 8/10\n",
            "5554/5554 [==============================] - 5s 957us/step - loss: 0.3508 - accuracy: 0.8490\n",
            "Epoch 9/10\n",
            "5554/5554 [==============================] - 5s 973us/step - loss: 0.3503 - accuracy: 0.8494\n",
            "Epoch 10/10\n",
            "5554/5554 [==============================] - 5s 950us/step - loss: 0.3506 - accuracy: 0.8495\n",
            "[[75830 13562]\n",
            " [ 7641 41806]]\n"
          ],
          "name": "stdout"
        }
      ]
    },
    {
      "cell_type": "markdown",
      "metadata": {
        "id": "piGXPdIhpYvp"
      },
      "source": [
        "# Decision Tree Classification"
      ]
    },
    {
      "cell_type": "code",
      "metadata": {
        "colab": {
          "base_uri": "https://localhost:8080/"
        },
        "id": "hR4zM6OupYvq",
        "outputId": "e082046e-2ce3-45d6-a87e-9900ba8d686e"
      },
      "source": [
        "decisionTree = DecisionTreeClassifier(random_state=76)\n",
        "decisionTree.fit(train_X,train_y)"
      ],
      "execution_count": 121,
      "outputs": [
        {
          "output_type": "execute_result",
          "data": {
            "text/plain": [
              "DecisionTreeClassifier(ccp_alpha=0.0, class_weight=None, criterion='gini',\n",
              "                       max_depth=None, max_features=None, max_leaf_nodes=None,\n",
              "                       min_impurity_decrease=0.0, min_impurity_split=None,\n",
              "                       min_samples_leaf=1, min_samples_split=2,\n",
              "                       min_weight_fraction_leaf=0.0, presort='deprecated',\n",
              "                       random_state=76, splitter='best')"
            ]
          },
          "metadata": {
            "tags": []
          },
          "execution_count": 121
        }
      ]
    },
    {
      "cell_type": "code",
      "metadata": {
        "id": "JLqkMR5zpYvq"
      },
      "source": [
        "treePredictions = decisionTree.predict(test_X)"
      ],
      "execution_count": 122,
      "outputs": []
    },
    {
      "cell_type": "code",
      "metadata": {
        "colab": {
          "base_uri": "https://localhost:8080/"
        },
        "id": "G3JvgjwFpYvr",
        "outputId": "9270f749-e6a6-4635-f886-4bde93e66288"
      },
      "source": [
        "print(classification_report(test_y, treePredictions))"
      ],
      "execution_count": 123,
      "outputs": [
        {
          "output_type": "stream",
          "text": [
            "              precision    recall  f1-score   support\n",
            "\n",
            "           0       0.97      0.97      0.97     44659\n",
            "           1       0.95      0.95      0.95     24761\n",
            "\n",
            "    accuracy                           0.96     69420\n",
            "   macro avg       0.96      0.96      0.96     69420\n",
            "weighted avg       0.96      0.96      0.96     69420\n",
            "\n"
          ],
          "name": "stdout"
        }
      ]
    },
    {
      "cell_type": "markdown",
      "metadata": {
        "id": "NYDIHWZNpYvs"
      },
      "source": [
        "Decision Tree classification gives 96% accuracy."
      ]
    },
    {
      "cell_type": "markdown",
      "metadata": {
        "id": "FLY_2CiApYvs"
      },
      "source": [
        "# Random forest"
      ]
    },
    {
      "cell_type": "code",
      "metadata": {
        "colab": {
          "base_uri": "https://localhost:8080/"
        },
        "id": "TSguJZ0opYvs",
        "outputId": "2a729481-51d9-47b3-af63-4c968e3584a6"
      },
      "source": [
        "forest = RandomForestClassifier(n_estimators=500, random_state=76)\n",
        "forest.fit(train_X, train_y)\n"
      ],
      "execution_count": 124,
      "outputs": [
        {
          "output_type": "execute_result",
          "data": {
            "text/plain": [
              "RandomForestClassifier(bootstrap=True, ccp_alpha=0.0, class_weight=None,\n",
              "                       criterion='gini', max_depth=None, max_features='auto',\n",
              "                       max_leaf_nodes=None, max_samples=None,\n",
              "                       min_impurity_decrease=0.0, min_impurity_split=None,\n",
              "                       min_samples_leaf=1, min_samples_split=2,\n",
              "                       min_weight_fraction_leaf=0.0, n_estimators=500,\n",
              "                       n_jobs=None, oob_score=False, random_state=76, verbose=0,\n",
              "                       warm_start=False)"
            ]
          },
          "metadata": {
            "tags": []
          },
          "execution_count": 124
        }
      ]
    },
    {
      "cell_type": "code",
      "metadata": {
        "colab": {
          "base_uri": "https://localhost:8080/"
        },
        "id": "ff2qrdlcpYvt",
        "outputId": "3d680958-c863-4ef4-d3da-9276ddaaf0b8"
      },
      "source": [
        "forestPredictions = forest.predict(test_X)\n",
        "print(confusion_matrix(test_y, forestPredictions))\n",
        "print(classification_report(test_y, forestPredictions))"
      ],
      "execution_count": 125,
      "outputs": [
        {
          "output_type": "stream",
          "text": [
            "[[43624  1035]\n",
            " [  871 23890]]\n",
            "              precision    recall  f1-score   support\n",
            "\n",
            "           0       0.98      0.98      0.98     44659\n",
            "           1       0.96      0.96      0.96     24761\n",
            "\n",
            "    accuracy                           0.97     69420\n",
            "   macro avg       0.97      0.97      0.97     69420\n",
            "weighted avg       0.97      0.97      0.97     69420\n",
            "\n"
          ],
          "name": "stdout"
        }
      ]
    },
    {
      "cell_type": "code",
      "metadata": {
        "id": "rafT6GF7pYvt"
      },
      "source": [
        "# RF gave 97% acc."
      ],
      "execution_count": 126,
      "outputs": []
    },
    {
      "cell_type": "code",
      "metadata": {
        "id": "B7pvbfdqpYvt"
      },
      "source": [
        ""
      ],
      "execution_count": 126,
      "outputs": []
    }
  ]
}